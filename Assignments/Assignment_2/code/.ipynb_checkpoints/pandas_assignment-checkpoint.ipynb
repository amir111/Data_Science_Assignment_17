{
 "metadata": {
  "kernelspec": {
   "display_name": "Python 2",
   "language": "python",
   "name": "python2"
  },
  "language_info": {
   "codemirror_mode": {
    "name": "ipython",
    "version": 2
   },
   "file_extension": ".py",
   "mimetype": "text/x-python",
   "name": "python",
   "nbconvert_exporter": "python",
   "pygments_lexer": "ipython2",
   "version": "2.7.12"
  },
  "name": "",
  "signature": "sha256:e1d0fd6b2b8c90d593f632afb5d26312f93f43ec5884ce03dc8b9fd413c40062"
 },
 "nbformat": 3,
 "nbformat_minor": 0,
 "worksheets": [
  {
   "cells": [
    {
     "cell_type": "markdown",
     "metadata": {},
     "source": [
      "# Pandas Assignment\n",
      "\n",
      "## Part 1\n",
      "\n",
      "In this assignment we are going to use pandas to figure out - What's the best **date-night movie**?\n",
      "\n",
      "This assignment is going to use\n",
      "- Joining\n",
      "- Groupby\n",
      "- Sorting\n",
      "\n",
      "Hint! Find the highly rated movies which appeals to both genders 'M' and 'F'\n"
     ]
    },
    {
     "cell_type": "code",
     "collapsed": true,
     "input": [
      "import os\n",
      "import pandas as pd\n",
      "import numpy as np"
     ],
     "language": "python",
     "metadata": {},
     "outputs": [],
     "prompt_number": 21
    },
    {
     "cell_type": "heading",
     "level": 5,
     "metadata": {},
     "source": [
      "Read in the movie data: `pd.read_table`"
     ]
    },
    {
     "cell_type": "code",
     "collapsed": true,
     "input": [
      "def get_movie_data():\n",
      "    \n",
      "    unames = ['user_id','gender','age','occupation','zip']\n",
      "    users = pd.read_table(os.path.join('../data','users.dat'), \n",
      "                          sep='::', header=None, names=unames)\n",
      "    \n",
      "    rnames = ['user_id', 'movie_id', 'rating', 'timestamp']\n",
      "    ratings = pd.read_table(os.path.join('../data', 'ratings.dat'), \n",
      "                            sep='::', header=None, names=rnames)\n",
      "    \n",
      "    mnames = ['movie_id', 'title','genres']\n",
      "    movies = pd.read_table(os.path.join('../data', 'movies.dat'), \n",
      "                           sep='::', header=None, names=mnames)\n",
      "\n",
      "    return users, ratings, movies"
     ],
     "language": "python",
     "metadata": {},
     "outputs": [],
     "prompt_number": 22
    },
    {
     "cell_type": "code",
     "collapsed": false,
     "input": [
      "users, ratings, movies = get_movie_data()"
     ],
     "language": "python",
     "metadata": {},
     "outputs": [
      {
       "output_type": "stream",
       "stream": "stderr",
       "text": [
        "-c:5: ParserWarning: Falling back to the 'python' engine because the 'c' engine does not support regex separators; you can avoid this warning by specifying engine='python'.\n",
        "-c:9: ParserWarning: Falling back to the 'python' engine because the 'c' engine does not support regex separators; you can avoid this warning by specifying engine='python'.\n"
       ]
      },
      {
       "output_type": "stream",
       "stream": "stderr",
       "text": [
        "-c:13: ParserWarning: Falling back to the 'python' engine because the 'c' engine does not support regex separators; you can avoid this warning by specifying engine='python'.\n"
       ]
      }
     ],
     "prompt_number": 23
    },
    {
     "cell_type": "code",
     "collapsed": false,
     "input": [
      "print users.head()"
     ],
     "language": "python",
     "metadata": {},
     "outputs": [
      {
       "output_type": "stream",
       "stream": "stdout",
       "text": [
        "   user_id gender  age  occupation    zip\n",
        "0        1      F    1          10  48067\n",
        "1        2      M   56          16  70072\n",
        "2        3      M   25          15  55117\n",
        "3        4      M   45           7  02460\n",
        "4        5      M   25          20  55455\n"
       ]
      }
     ],
     "prompt_number": 24
    },
    {
     "cell_type": "code",
     "collapsed": false,
     "input": [
      "print ratings.head()"
     ],
     "language": "python",
     "metadata": {},
     "outputs": [
      {
       "output_type": "stream",
       "stream": "stdout",
       "text": [
        "   user_id  movie_id  rating  timestamp\n",
        "0        1      1193       5  978300760\n",
        "1        1       661       3  978302109\n",
        "2        1       914       3  978301968\n",
        "3        1      3408       4  978300275\n",
        "4        1      2355       5  978824291\n"
       ]
      }
     ],
     "prompt_number": 25
    },
    {
     "cell_type": "code",
     "collapsed": false,
     "input": [
      "print movies.head()"
     ],
     "language": "python",
     "metadata": {},
     "outputs": [
      {
       "output_type": "stream",
       "stream": "stdout",
       "text": [
        "   movie_id                               title                        genres\n",
        "0         1                    Toy Story (1995)   Animation|Children's|Comedy\n",
        "1         2                      Jumanji (1995)  Adventure|Children's|Fantasy\n",
        "2         3             Grumpier Old Men (1995)                Comedy|Romance\n",
        "3         4            Waiting to Exhale (1995)                  Comedy|Drama\n",
        "4         5  Father of the Bride Part II (1995)                        Comedy\n"
       ]
      }
     ],
     "prompt_number": 26
    },
    {
     "cell_type": "markdown",
     "metadata": {},
     "source": [
      "##### Clean up the `movies`\n",
      "\n",
      "- Get the `year`\n",
      "- Shorten the `title`\n"
     ]
    },
    {
     "cell_type": "code",
     "collapsed": false,
     "input": [
      "tmp = movies.title.str.extract('(.*) \\(([0-9]+)\\)')\n",
      "tmp.apply(lambda x:x[0] if len(x) > 0 else None)\n",
      "tmp.apply(lambda x: x[0][:40] if len(x) > 0 else None)"
     ],
     "language": "python",
     "metadata": {},
     "outputs": [
      {
       "metadata": {},
       "output_type": "pyout",
       "prompt_number": 27,
       "text": [
        "0    Toy Story\n",
        "1         1995\n",
        "dtype: object"
       ]
      }
     ],
     "prompt_number": 27
    },
    {
     "cell_type": "code",
     "collapsed": false,
     "input": [
      "movies['year'] = tmp[1]\n",
      "movies['short_title'] = tmp[0]"
     ],
     "language": "python",
     "metadata": {},
     "outputs": [],
     "prompt_number": 28
    },
    {
     "cell_type": "code",
     "collapsed": false,
     "input": [
      "print movies.head()"
     ],
     "language": "python",
     "metadata": {},
     "outputs": [
      {
       "output_type": "stream",
       "stream": "stdout",
       "text": [
        "   movie_id                               title                        genres  \\\n",
        "0         1                    Toy Story (1995)   Animation|Children's|Comedy   \n",
        "1         2                      Jumanji (1995)  Adventure|Children's|Fantasy   \n",
        "2         3             Grumpier Old Men (1995)                Comedy|Romance   \n",
        "3         4            Waiting to Exhale (1995)                  Comedy|Drama   \n",
        "4         5  Father of the Bride Part II (1995)                        Comedy   \n",
        "\n",
        "   year                  short_title  \n",
        "0  1995                    Toy Story  \n",
        "1  1995                      Jumanji  \n",
        "2  1995             Grumpier Old Men  \n",
        "3  1995            Waiting to Exhale  \n",
        "4  1995  Father of the Bride Part II  \n"
       ]
      }
     ],
     "prompt_number": 29
    },
    {
     "cell_type": "heading",
     "level": 5,
     "metadata": {},
     "source": [
      "Join the tables with `pd.merge`"
     ]
    },
    {
     "cell_type": "code",
     "collapsed": false,
     "input": [
      "df1and2 = pd.merge(users, ratings) #merges users and ratings charts\n",
      "df2and3 = pd.merge(ratings, movies) #merges ratings and movies charts\n",
      "dfmergeAll = pd.merge(df1and2, df2and3, how='inner') # merges the previous 2 charts into 1 table\n",
      "print dfmergeAll.head()"
     ],
     "language": "python",
     "metadata": {},
     "outputs": [
      {
       "output_type": "stream",
       "stream": "stdout",
       "text": [
        "   user_id gender  age  occupation    zip  movie_id  rating  timestamp  \\\n",
        "0        1      F    1          10  48067      1193       5  978300760   \n",
        "1        1      F    1          10  48067       661       3  978302109   \n",
        "2        1      F    1          10  48067       914       3  978301968   \n",
        "3        1      F    1          10  48067      3408       4  978300275   \n",
        "4        1      F    1          10  48067      2355       5  978824291   \n",
        "\n",
        "                                    title                        genres  year  \\\n",
        "0  One Flew Over the Cuckoo's Nest (1975)                         Drama  1975   \n",
        "1        James and the Giant Peach (1996)  Animation|Children's|Musical  1996   \n",
        "2                     My Fair Lady (1964)               Musical|Romance  1964   \n",
        "3                  Erin Brockovich (2000)                         Drama  2000   \n",
        "4                    Bug's Life, A (1998)   Animation|Children's|Comedy  1998   \n",
        "\n",
        "                       short_title  \n",
        "0  One Flew Over the Cuckoo's Nest  \n",
        "1        James and the Giant Peach  \n",
        "2                     My Fair Lady  \n",
        "3                  Erin Brockovich  \n",
        "4                    Bug's Life, A  \n"
       ]
      }
     ],
     "prompt_number": 30
    },
    {
     "cell_type": "heading",
     "level": 5,
     "metadata": {},
     "source": [
      "What's the highest rated movie?"
     ]
    },
    {
     "cell_type": "code",
     "collapsed": true,
     "input": [
      "dcf = dfmergeAll.groupby(['title'],as_index=False).mean() #groups dataframe by title, and shows average rating for each title\n",
      "print dcf.nlargest(10, 'rating') #the top 10 highest rated movies sorted alphabetically by title"
     ],
     "language": "python",
     "metadata": {},
     "outputs": [
      {
       "output_type": "stream",
       "stream": "stdout",
       "text": [
        "                                          title      user_id   age  \\\n",
        "249                            Baby, The (1973)    46.000000  18.0   \n",
        "407                    Bittersweet Motel (2000)  2885.000000  18.0   \n",
        "1203                    Follow the Bitch (1998)  2869.000000  50.0   \n",
        "1297         Gate of Heavenly Peace, The (1995)  1948.666667  25.0   \n",
        "2025                               Lured (1947)  5313.000000  56.0   \n",
        "2453                   One Little Indian (1973)  5851.000000  18.0   \n",
        "2903  Schlafes Bruder (Brother of Sleep) (1995)  1915.000000  50.0   \n",
        "3044                       Smashing Time (1967)  3733.000000  47.5   \n",
        "3087                     Song of Freedom (1936)  5334.000000  56.0   \n",
        "3477                    Ulysses (Ulisse) (1954)  3485.000000  25.0   \n",
        "\n",
        "      occupation  movie_id  rating     timestamp  \n",
        "249    19.000000      3280       5  9.779795e+08  \n",
        "407     1.000000      3881       5  9.724529e+08  \n",
        "1203   17.000000      1830       5  9.724390e+08  \n",
        "1297   13.666667       787       5  9.741198e+08  \n",
        "2025    0.000000      3656       5  9.609204e+08  \n",
        "2453   20.000000      3607       5  9.577566e+08  \n",
        "2903   13.000000       989       5  9.746939e+08  \n",
        "3044    3.500000      3233       5  9.664246e+08  \n",
        "3087   13.000000      3382       5  9.607962e+08  \n",
        "3477    0.000000      3172       5  9.670604e+08  \n"
       ]
      }
     ],
     "prompt_number": 31
    },
    {
     "cell_type": "heading",
     "level": 2,
     "metadata": {},
     "source": [
      "Part 2"
     ]
    },
    {
     "cell_type": "markdown",
     "metadata": {},
     "source": [
      "Load the dataset in `titanic.xls`. It contains data on all the passengers that travelled on the Titanic."
     ]
    },
    {
     "cell_type": "code",
     "collapsed": false,
     "input": [
      "from IPython.core.display import HTML\n",
      "HTML(filename='../data/titanic.html')"
     ],
     "language": "python",
     "metadata": {},
     "outputs": [
      {
       "html": [
        "<hr><h2>Data frame:titanic3</h2>1309 observations and 14 variables, maximum # NAs:1188<hr>\n",
        "<TABLE BORDER>\n",
        "<tr><td>Name</td><td>Labels</td><td>Units</td><td>Levels</td><td>Storage</td><td>NAs</td></tr>\n",
        "<tr><td>pclass</td><td></td><td></td><td><a href=\"#pclass\"><div align=right>  3</div></a></td><td>integer</td><td><div align=right>   0</div></td></tr>\n",
        "<tr><td>survived</td><td>Survived</td><td></td><td><div align=right></div></td><td>double</td><td><div align=right>   0</div></td></tr>\n",
        "<tr><td>name</td><td>Name</td><td></td><td><div align=right></div></td><td>character</td><td><div align=right>   0</div></td></tr>\n",
        "<tr><td>sex</td><td></td><td></td><td><a href=\"#sex\"><div align=right>  2</div></a></td><td>integer</td><td><div align=right>   0</div></td></tr>\n",
        "<tr><td>age</td><td>Age</td><td>Year</td><td><div align=right></div></td><td>double</td><td><div align=right> 263</div></td></tr>\n",
        "<tr><td>sibsp</td><td>Number of Siblings/Spouses Aboard</td><td></td><td><div align=right></div></td><td>double</td><td><div align=right>   0</div></td></tr>\n",
        "<tr><td>parch</td><td>Number of Parents/Children Aboard</td><td></td><td><div align=right></div></td><td>double</td><td><div align=right>   0</div></td></tr>\n",
        "<tr><td>ticket</td><td>Ticket Number</td><td></td><td><div align=right></div></td><td>character</td><td><div align=right>   0</div></td></tr>\n",
        "<tr><td>fare</td><td>Passenger Fare</td><td>British Pound (\\243)</td><td><div align=right></div></td><td>double</td><td><div align=right>   1</div></td></tr>\n",
        "<tr><td>cabin</td><td></td><td></td><td><a href=\"#cabin\"><div align=right>187</div></a></td><td>integer</td><td><div align=right>   0</div></td></tr>\n",
        "<tr><td>embarked</td><td></td><td></td><td><a href=\"#embarked\"><div align=right>  3</div></a></td><td>integer</td><td><div align=right>   2</div></td></tr>\n",
        "<tr><td>boat</td><td></td><td></td><td><a href=\"#boat\"><div align=right> 28</div></a></td><td>integer</td><td><div align=right>   0</div></td></tr>\n",
        "<tr><td>body</td><td>Body Identification Number</td><td></td><td><div align=right></div></td><td>double</td><td><div align=right>1188</div></td></tr>\n",
        "<tr><td>home.dest</td><td>Home/Destination</td><td></td><td><div align=right></div></td><td>character</td><td><div align=right>   0</div></td></tr>\n",
        "</TABLE>\n",
        "<hr>\n",
        "<TABLE BORDER>\n",
        "<tr><td>Variable</td><td>Levels</td></tr>\n",
        "<tr><td><a name=\"pclass\">pclass</a></td><td>1st</td></tr>\n",
        "<tr><td></td><td>2nd</td></tr>\n",
        "<tr><td></td><td>3rd</td></tr>\n",
        "<tr><td><a name=\"sex\">sex</a></td><td>female</td></tr>\n",
        "<tr><td></td><td>male</td></tr>\n",
        "<tr><td><a name=\"cabin\">cabin</a></td><td></td></tr>\n",
        "<tr><td></td><td>A10</td></tr>\n",
        "<tr><td></td><td>A11</td></tr>\n",
        "<tr><td></td><td>A14</td></tr>\n",
        "<tr><td></td><td>A16</td></tr>\n",
        "<tr><td></td><td>A18</td></tr>\n",
        "<tr><td></td><td>A19</td></tr>\n",
        "<tr><td></td><td>A20</td></tr>\n",
        "<tr><td></td><td>A21</td></tr>\n",
        "<tr><td></td><td>A23</td></tr>\n",
        "<tr><td></td><td>A24</td></tr>\n",
        "<tr><td></td><td>A26</td></tr>\n",
        "<tr><td></td><td>A29</td></tr>\n",
        "<tr><td></td><td>A31</td></tr>\n",
        "<tr><td></td><td>A32</td></tr>\n",
        "<tr><td></td><td>A34</td></tr>\n",
        "<tr><td></td><td>A36</td></tr>\n",
        "<tr><td></td><td>A5</td></tr>\n",
        "<tr><td></td><td>A6</td></tr>\n",
        "<tr><td></td><td>A7</td></tr>\n",
        "<tr><td></td><td>A9</td></tr>\n",
        "<tr><td></td><td>B10</td></tr>\n",
        "<tr><td></td><td>B101</td></tr>\n",
        "<tr><td></td><td>B102</td></tr>\n",
        "<tr><td></td><td>B11</td></tr>\n",
        "<tr><td></td><td>B18</td></tr>\n",
        "<tr><td></td><td>B19</td></tr>\n",
        "<tr><td></td><td>B20</td></tr>\n",
        "<tr><td></td><td>B22</td></tr>\n",
        "<tr><td></td><td>B24</td></tr>\n",
        "<tr><td></td><td>B26</td></tr>\n",
        "<tr><td></td><td>B28</td></tr>\n",
        "<tr><td></td><td>B3</td></tr>\n",
        "<tr><td></td><td>B30</td></tr>\n",
        "<tr><td></td><td>B35</td></tr>\n",
        "<tr><td></td><td>B36</td></tr>\n",
        "<tr><td></td><td>B37</td></tr>\n",
        "<tr><td></td><td>B38</td></tr>\n",
        "<tr><td></td><td>B39</td></tr>\n",
        "<tr><td></td><td>B4</td></tr>\n",
        "<tr><td></td><td>B41</td></tr>\n",
        "<tr><td></td><td>B42</td></tr>\n",
        "<tr><td></td><td>B45</td></tr>\n",
        "<tr><td></td><td>B49</td></tr>\n",
        "<tr><td></td><td>B5</td></tr>\n",
        "<tr><td></td><td>B50</td></tr>\n",
        "<tr><td></td><td>B51 B53 B55</td></tr>\n",
        "<tr><td></td><td>B52 B54 B56</td></tr>\n",
        "<tr><td></td><td>B57 B59 B63 B66</td></tr>\n",
        "<tr><td></td><td>B58 B60</td></tr>\n",
        "<tr><td></td><td>B61</td></tr>\n",
        "<tr><td></td><td>B69</td></tr>\n",
        "<tr><td></td><td>B71</td></tr>\n",
        "<tr><td></td><td>B73</td></tr>\n",
        "<tr><td></td><td>B77</td></tr>\n",
        "<tr><td></td><td>B78</td></tr>\n",
        "<tr><td></td><td>B79</td></tr>\n",
        "<tr><td></td><td>B80</td></tr>\n",
        "<tr><td></td><td>B82 B84</td></tr>\n",
        "<tr><td></td><td>B86</td></tr>\n",
        "<tr><td></td><td>B94</td></tr>\n",
        "<tr><td></td><td>B96 B98</td></tr>\n",
        "<tr><td></td><td>C101</td></tr>\n",
        "<tr><td></td><td>C103</td></tr>\n",
        "<tr><td></td><td>C104</td></tr>\n",
        "<tr><td></td><td>C105</td></tr>\n",
        "<tr><td></td><td>C106</td></tr>\n",
        "<tr><td></td><td>C110</td></tr>\n",
        "<tr><td></td><td>C111</td></tr>\n",
        "<tr><td></td><td>C116</td></tr>\n",
        "<tr><td></td><td>C118</td></tr>\n",
        "<tr><td></td><td>C123</td></tr>\n",
        "<tr><td></td><td>C124</td></tr>\n",
        "<tr><td></td><td>C125</td></tr>\n",
        "<tr><td></td><td>C126</td></tr>\n",
        "<tr><td></td><td>C128</td></tr>\n",
        "<tr><td></td><td>C130</td></tr>\n",
        "<tr><td></td><td>C132</td></tr>\n",
        "<tr><td></td><td>C148</td></tr>\n",
        "<tr><td></td><td>C2</td></tr>\n",
        "<tr><td></td><td>C22 C26</td></tr>\n",
        "<tr><td></td><td>C23 C25 C27</td></tr>\n",
        "<tr><td></td><td>C28</td></tr>\n",
        "<tr><td></td><td>C30</td></tr>\n",
        "<tr><td></td><td>C31</td></tr>\n",
        "<tr><td></td><td>C32</td></tr>\n",
        "<tr><td></td><td>C39</td></tr>\n",
        "<tr><td></td><td>C45</td></tr>\n",
        "<tr><td></td><td>C46</td></tr>\n",
        "<tr><td></td><td>C47</td></tr>\n",
        "<tr><td></td><td>C49</td></tr>\n",
        "<tr><td></td><td>C50</td></tr>\n",
        "<tr><td></td><td>C51</td></tr>\n",
        "<tr><td></td><td>C52</td></tr>\n",
        "<tr><td></td><td>C53</td></tr>\n",
        "<tr><td></td><td>C54</td></tr>\n",
        "<tr><td></td><td>C55 C57</td></tr>\n",
        "<tr><td></td><td>C6</td></tr>\n",
        "<tr><td></td><td>C62 C64</td></tr>\n",
        "<tr><td></td><td>C65</td></tr>\n",
        "<tr><td></td><td>C68</td></tr>\n",
        "<tr><td></td><td>C7</td></tr>\n",
        "<tr><td></td><td>C70</td></tr>\n",
        "<tr><td></td><td>C78</td></tr>\n",
        "<tr><td></td><td>C80</td></tr>\n",
        "<tr><td></td><td>C82</td></tr>\n",
        "<tr><td></td><td>C83</td></tr>\n",
        "<tr><td></td><td>C85</td></tr>\n",
        "<tr><td></td><td>C86</td></tr>\n",
        "<tr><td></td><td>C87</td></tr>\n",
        "<tr><td></td><td>C89</td></tr>\n",
        "<tr><td></td><td>C90</td></tr>\n",
        "<tr><td></td><td>C91</td></tr>\n",
        "<tr><td></td><td>C92</td></tr>\n",
        "<tr><td></td><td>C93</td></tr>\n",
        "<tr><td></td><td>C95</td></tr>\n",
        "<tr><td></td><td>C97</td></tr>\n",
        "<tr><td></td><td>C99</td></tr>\n",
        "<tr><td></td><td>D</td></tr>\n",
        "<tr><td></td><td>D10 D12</td></tr>\n",
        "<tr><td></td><td>D11</td></tr>\n",
        "<tr><td></td><td>D15</td></tr>\n",
        "<tr><td></td><td>D17</td></tr>\n",
        "<tr><td></td><td>D19</td></tr>\n",
        "<tr><td></td><td>D20</td></tr>\n",
        "<tr><td></td><td>D21</td></tr>\n",
        "<tr><td></td><td>D22</td></tr>\n",
        "<tr><td></td><td>D26</td></tr>\n",
        "<tr><td></td><td>D28</td></tr>\n",
        "<tr><td></td><td>D30</td></tr>\n",
        "<tr><td></td><td>D33</td></tr>\n",
        "<tr><td></td><td>D34</td></tr>\n",
        "<tr><td></td><td>D35</td></tr>\n",
        "<tr><td></td><td>D36</td></tr>\n",
        "<tr><td></td><td>D37</td></tr>\n",
        "<tr><td></td><td>D38</td></tr>\n",
        "<tr><td></td><td>D40</td></tr>\n",
        "<tr><td></td><td>D43</td></tr>\n",
        "<tr><td></td><td>D45</td></tr>\n",
        "<tr><td></td><td>D46</td></tr>\n",
        "<tr><td></td><td>D47</td></tr>\n",
        "<tr><td></td><td>D48</td></tr>\n",
        "<tr><td></td><td>D49</td></tr>\n",
        "<tr><td></td><td>D50</td></tr>\n",
        "<tr><td></td><td>D56</td></tr>\n",
        "<tr><td></td><td>D6</td></tr>\n",
        "<tr><td></td><td>D7</td></tr>\n",
        "<tr><td></td><td>D9</td></tr>\n",
        "<tr><td></td><td>E10</td></tr>\n",
        "<tr><td></td><td>E101</td></tr>\n",
        "<tr><td></td><td>E12</td></tr>\n",
        "<tr><td></td><td>E121</td></tr>\n",
        "<tr><td></td><td>E17</td></tr>\n",
        "<tr><td></td><td>E24</td></tr>\n",
        "<tr><td></td><td>E25</td></tr>\n",
        "<tr><td></td><td>E31</td></tr>\n",
        "<tr><td></td><td>E33</td></tr>\n",
        "<tr><td></td><td>E34</td></tr>\n",
        "<tr><td></td><td>E36</td></tr>\n",
        "<tr><td></td><td>E38</td></tr>\n",
        "<tr><td></td><td>E39 E41</td></tr>\n",
        "<tr><td></td><td>E40</td></tr>\n",
        "<tr><td></td><td>E44</td></tr>\n",
        "<tr><td></td><td>E45</td></tr>\n",
        "<tr><td></td><td>E46</td></tr>\n",
        "<tr><td></td><td>E49</td></tr>\n",
        "<tr><td></td><td>E50</td></tr>\n",
        "<tr><td></td><td>E52</td></tr>\n",
        "<tr><td></td><td>E58</td></tr>\n",
        "<tr><td></td><td>E60</td></tr>\n",
        "<tr><td></td><td>E63</td></tr>\n",
        "<tr><td></td><td>E67</td></tr>\n",
        "<tr><td></td><td>E68</td></tr>\n",
        "<tr><td></td><td>E77</td></tr>\n",
        "<tr><td></td><td>E8</td></tr>\n",
        "<tr><td></td><td>F</td></tr>\n",
        "<tr><td></td><td>F E46</td></tr>\n",
        "<tr><td></td><td>F E57</td></tr>\n",
        "<tr><td></td><td>F E69</td></tr>\n",
        "<tr><td></td><td>F G63</td></tr>\n",
        "<tr><td></td><td>F G73</td></tr>\n",
        "<tr><td></td><td>F2</td></tr>\n",
        "<tr><td></td><td>F33</td></tr>\n",
        "<tr><td></td><td>F38</td></tr>\n",
        "<tr><td></td><td>F4</td></tr>\n",
        "<tr><td></td><td>G6</td></tr>\n",
        "<tr><td></td><td>T</td></tr>\n",
        "<tr><td><a name=\"embarked\">embarked</a></td><td>Cherbourg</td></tr>\n",
        "<tr><td></td><td>Queenstown</td></tr>\n",
        "<tr><td></td><td>Southampton</td></tr>\n",
        "<tr><td><a name=\"boat\">boat</a></td><td></td></tr>\n",
        "<tr><td></td><td>1</td></tr>\n",
        "<tr><td></td><td>10</td></tr>\n",
        "<tr><td></td><td>11</td></tr>\n",
        "<tr><td></td><td>12</td></tr>\n",
        "<tr><td></td><td>13</td></tr>\n",
        "<tr><td></td><td>13 15</td></tr>\n",
        "<tr><td></td><td>13 15 B</td></tr>\n",
        "<tr><td></td><td>14</td></tr>\n",
        "<tr><td></td><td>15</td></tr>\n",
        "<tr><td></td><td>15 16</td></tr>\n",
        "<tr><td></td><td>16</td></tr>\n",
        "<tr><td></td><td>2</td></tr>\n",
        "<tr><td></td><td>3</td></tr>\n",
        "<tr><td></td><td>4</td></tr>\n",
        "<tr><td></td><td>5</td></tr>\n",
        "<tr><td></td><td>5 7</td></tr>\n",
        "<tr><td></td><td>5 9</td></tr>\n",
        "<tr><td></td><td>6</td></tr>\n",
        "<tr><td></td><td>7</td></tr>\n",
        "<tr><td></td><td>8</td></tr>\n",
        "<tr><td></td><td>8 10</td></tr>\n",
        "<tr><td></td><td>9</td></tr>\n",
        "<tr><td></td><td>A</td></tr>\n",
        "<tr><td></td><td>B</td></tr>\n",
        "<tr><td></td><td>C</td></tr>\n",
        "<tr><td></td><td>C D</td></tr>\n",
        "<tr><td></td><td>D</td></tr>\n",
        "</TABLE>\n",
        "<hr>\n"
       ],
       "metadata": {},
       "output_type": "pyout",
       "prompt_number": 32,
       "text": [
        "<IPython.core.display.HTML at 0x7f292bce1190>"
       ]
      }
     ],
     "prompt_number": 32
    },
    {
     "cell_type": "code",
     "collapsed": false,
     "input": [
      "# you would need xlrd - pip install xlrd\n",
      "t_file = pd.ExcelFile('../data/titanic.xls')\n",
      "t_df = t_file.parse(\"titanic\")\n",
      "t_df.head()"
     ],
     "language": "python",
     "metadata": {},
     "outputs": [
      {
       "html": [
        "<div style=\"max-width:1500px;overflow:auto;\">\n",
        "<table border=\"1\" class=\"dataframe\">\n",
        "  <thead>\n",
        "    <tr style=\"text-align: right;\">\n",
        "      <th></th>\n",
        "      <th>pclass</th>\n",
        "      <th>survived</th>\n",
        "      <th>name</th>\n",
        "      <th>sex</th>\n",
        "      <th>age</th>\n",
        "      <th>sibsp</th>\n",
        "      <th>parch</th>\n",
        "      <th>ticket</th>\n",
        "      <th>fare</th>\n",
        "      <th>cabin</th>\n",
        "      <th>embarked</th>\n",
        "      <th>boat</th>\n",
        "      <th>body</th>\n",
        "      <th>home.dest</th>\n",
        "    </tr>\n",
        "  </thead>\n",
        "  <tbody>\n",
        "    <tr>\n",
        "      <th>0</th>\n",
        "      <td>1</td>\n",
        "      <td>1</td>\n",
        "      <td>Allen, Miss. Elisabeth Walton</td>\n",
        "      <td>female</td>\n",
        "      <td>29.0000</td>\n",
        "      <td>0</td>\n",
        "      <td>0</td>\n",
        "      <td>24160</td>\n",
        "      <td>211.3375</td>\n",
        "      <td>B5</td>\n",
        "      <td>S</td>\n",
        "      <td>2</td>\n",
        "      <td>NaN</td>\n",
        "      <td>St Louis, MO</td>\n",
        "    </tr>\n",
        "    <tr>\n",
        "      <th>1</th>\n",
        "      <td>1</td>\n",
        "      <td>1</td>\n",
        "      <td>Allison, Master. Hudson Trevor</td>\n",
        "      <td>male</td>\n",
        "      <td>0.9167</td>\n",
        "      <td>1</td>\n",
        "      <td>2</td>\n",
        "      <td>113781</td>\n",
        "      <td>151.5500</td>\n",
        "      <td>C22 C26</td>\n",
        "      <td>S</td>\n",
        "      <td>11</td>\n",
        "      <td>NaN</td>\n",
        "      <td>Montreal, PQ / Chesterville, ON</td>\n",
        "    </tr>\n",
        "    <tr>\n",
        "      <th>2</th>\n",
        "      <td>1</td>\n",
        "      <td>0</td>\n",
        "      <td>Allison, Miss. Helen Loraine</td>\n",
        "      <td>female</td>\n",
        "      <td>2.0000</td>\n",
        "      <td>1</td>\n",
        "      <td>2</td>\n",
        "      <td>113781</td>\n",
        "      <td>151.5500</td>\n",
        "      <td>C22 C26</td>\n",
        "      <td>S</td>\n",
        "      <td>NaN</td>\n",
        "      <td>NaN</td>\n",
        "      <td>Montreal, PQ / Chesterville, ON</td>\n",
        "    </tr>\n",
        "    <tr>\n",
        "      <th>3</th>\n",
        "      <td>1</td>\n",
        "      <td>0</td>\n",
        "      <td>Allison, Mr. Hudson Joshua Creighton</td>\n",
        "      <td>male</td>\n",
        "      <td>30.0000</td>\n",
        "      <td>1</td>\n",
        "      <td>2</td>\n",
        "      <td>113781</td>\n",
        "      <td>151.5500</td>\n",
        "      <td>C22 C26</td>\n",
        "      <td>S</td>\n",
        "      <td>NaN</td>\n",
        "      <td>135</td>\n",
        "      <td>Montreal, PQ / Chesterville, ON</td>\n",
        "    </tr>\n",
        "    <tr>\n",
        "      <th>4</th>\n",
        "      <td>1</td>\n",
        "      <td>0</td>\n",
        "      <td>Allison, Mrs. Hudson J C (Bessie Waldo Daniels)</td>\n",
        "      <td>female</td>\n",
        "      <td>25.0000</td>\n",
        "      <td>1</td>\n",
        "      <td>2</td>\n",
        "      <td>113781</td>\n",
        "      <td>151.5500</td>\n",
        "      <td>C22 C26</td>\n",
        "      <td>S</td>\n",
        "      <td>NaN</td>\n",
        "      <td>NaN</td>\n",
        "      <td>Montreal, PQ / Chesterville, ON</td>\n",
        "    </tr>\n",
        "  </tbody>\n",
        "</table>\n",
        "</div>"
       ],
       "metadata": {},
       "output_type": "pyout",
       "prompt_number": 33,
       "text": [
        "   pclass  survived                                             name     sex  \\\n",
        "0       1         1                    Allen, Miss. Elisabeth Walton  female   \n",
        "1       1         1                   Allison, Master. Hudson Trevor    male   \n",
        "2       1         0                     Allison, Miss. Helen Loraine  female   \n",
        "3       1         0             Allison, Mr. Hudson Joshua Creighton    male   \n",
        "4       1         0  Allison, Mrs. Hudson J C (Bessie Waldo Daniels)  female   \n",
        "\n",
        "       age  sibsp  parch  ticket      fare    cabin embarked boat  body  \\\n",
        "0  29.0000      0      0   24160  211.3375       B5        S    2   NaN   \n",
        "1   0.9167      1      2  113781  151.5500  C22 C26        S   11   NaN   \n",
        "2   2.0000      1      2  113781  151.5500  C22 C26        S  NaN   NaN   \n",
        "3  30.0000      1      2  113781  151.5500  C22 C26        S  NaN   135   \n",
        "4  25.0000      1      2  113781  151.5500  C22 C26        S  NaN   NaN   \n",
        "\n",
        "                         home.dest  \n",
        "0                     St Louis, MO  \n",
        "1  Montreal, PQ / Chesterville, ON  \n",
        "2  Montreal, PQ / Chesterville, ON  \n",
        "3  Montreal, PQ / Chesterville, ON  \n",
        "4  Montreal, PQ / Chesterville, ON  "
       ]
      }
     ],
     "prompt_number": 33
    },
    {
     "cell_type": "markdown",
     "metadata": {},
     "source": [
      "### Women and children first?\n",
      "\n",
      "*** 1. Use the `groupby` method to calculate the proportion of passengers that survived by sex. *** \n",
      "\n",
      "*** 2. Calculate the same proportion, but by class and sex. *** \n",
      "\n",
      "*** 3. Create age categories: children (under 14 years), adolescents (14-20), adult (21-64), and senior(65+), and calculate survival proportions by age category, class and sex. ***"
     ]
    },
    {
     "cell_type": "markdown",
     "metadata": {},
     "source": []
    },
    {
     "cell_type": "code",
     "collapsed": true,
     "input": [
      "#this bottom row says we are looking just at two columns (sex and survived) and then \n",
      "#we groupby sex and calculate the average survival rate for female and males\n",
      "print t_df[['sex', 'survived']].groupby(['sex'],as_index=False).mean() \n",
      "#72 percent of women survived, while only 20 % of men died. "
     ],
     "language": "python",
     "metadata": {},
     "outputs": [
      {
       "output_type": "stream",
       "stream": "stdout",
       "text": [
        "      sex  survived\n",
        "0  female  0.727468\n",
        "1    male  0.190985\n"
       ]
      }
     ],
     "prompt_number": 34
    },
    {
     "cell_type": "code",
     "collapsed": false,
     "input": [
      "#we do the same as previously, but now we look at class amongst both sexes \n",
      "print t_df[['pclass', 'sex', 'survived']].groupby(['sex', 'pclass'],as_index=True).mean() \n",
      "#Noted: Class 1 had the highest survival rates in both genders"
     ],
     "language": "python",
     "metadata": {},
     "outputs": [
      {
       "output_type": "stream",
       "stream": "stdout",
       "text": [
        "               survived\n",
        "sex    pclass          \n",
        "female 1       0.965278\n",
        "       2       0.886792\n",
        "       3       0.490741\n",
        "male   1       0.340782\n",
        "       2       0.146199\n",
        "       3       0.152130\n"
       ]
      }
     ],
     "prompt_number": 35
    },
    {
     "cell_type": "code",
     "collapsed": false,
     "input": [
      "#children_df is the dataframe of age categories b/w 0 and 13\n",
      "children_df = t_df[(t_df['age'] >= 0) & (t_df['age'] <= 13)]\n",
      "print children_df[['pclass', 'sex', 'survived']].groupby(['sex', 'pclass'],as_index=True).mean() "
     ],
     "language": "python",
     "metadata": {},
     "outputs": [
      {
       "output_type": "stream",
       "stream": "stdout",
       "text": [
        "               survived\n",
        "sex    pclass          \n",
        "female 1       0.000000\n",
        "       2       1.000000\n",
        "       3       0.483871\n",
        "male   1       1.000000\n",
        "       2       1.000000\n",
        "       3       0.324324\n"
       ]
      }
     ],
     "prompt_number": 116
    },
    {
     "cell_type": "code",
     "collapsed": false,
     "input": [
      "#adolescent_df is the dataframe of age categories b/w 14 and 20\n",
      "adolescent_df = t_df[(t_df['age'] >= 14) & (t_df['age'] <= 20)]\n",
      "print adolescent_df[['pclass', 'sex', 'survived']].groupby(['sex', 'pclass'],as_index=True).mean() "
     ],
     "language": "python",
     "metadata": {},
     "outputs": [
      {
       "output_type": "stream",
       "stream": "stdout",
       "text": [
        "               survived\n",
        "sex    pclass          \n",
        "female 1       1.000000\n",
        "       2       0.923077\n",
        "       3       0.542857\n",
        "male   1       0.200000\n",
        "       2       0.117647\n",
        "       3       0.125000\n"
       ]
      }
     ],
     "prompt_number": 117
    },
    {
     "cell_type": "code",
     "collapsed": false,
     "input": [
      "#adult_df is the dataframe of age categories b/w 21 and 64\n",
      "adult_df = t_df[(t_df['age'] >= 21) & (t_df['age'] <= 64)]\n",
      "print adult_df[['pclass', 'sex', 'survived']].groupby(['sex', 'pclass'],as_index=True).mean() "
     ],
     "language": "python",
     "metadata": {},
     "outputs": [
      {
       "output_type": "stream",
       "stream": "stdout",
       "text": [
        "               survived\n",
        "sex    pclass          \n",
        "female 1       0.965517\n",
        "       2       0.868421\n",
        "       3       0.441860\n",
        "male   1       0.343284\n",
        "       2       0.078125\n",
        "       3       0.159836\n"
       ]
      }
     ],
     "prompt_number": 118
    },
    {
     "cell_type": "code",
     "collapsed": false,
     "input": [
      "#senior_df is the dataframe of age categories b/w 65 and 1000\n",
      "# I put max age to 1000 to be safe, because no human back then (or now) has lived to be more than 1000 years old\n",
      "senior_df = t_df[(t_df['age'] >= 65) & (t_df['age'] <= 1000)]\n",
      "print senior_df[['pclass', 'sex', 'survived']].groupby(['sex', 'pclass'],as_index=True).mean() "
     ],
     "language": "python",
     "metadata": {},
     "outputs": [
      {
       "output_type": "stream",
       "stream": "stdout",
       "text": [
        "               survived\n",
        "sex    pclass          \n",
        "female 1       1.000000\n",
        "male   1       0.142857\n",
        "       2       0.000000\n",
        "       3       0.000000\n"
       ]
      }
     ],
     "prompt_number": 120
    },
    {
     "cell_type": "code",
     "collapsed": false,
     "input": [
      "#Noted: the closer the class is to 1, the higher rate of survival you have. Females survived more than males. And children \n",
      "#survived more than adults. "
     ],
     "language": "python",
     "metadata": {},
     "outputs": []
    }
   ],
   "metadata": {}
  }
 ]
}