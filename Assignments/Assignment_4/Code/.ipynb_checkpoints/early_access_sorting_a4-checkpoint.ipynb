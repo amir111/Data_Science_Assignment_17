{
 "cells": [
  {
   "cell_type": "code",
   "execution_count": 695,
   "metadata": {},
   "outputs": [
    {
     "data": {
      "text/html": [
       "<div>\n",
       "<table border=\"1\" class=\"dataframe\">\n",
       "  <thead>\n",
       "    <tr style=\"text-align: right;\">\n",
       "      <th></th>\n",
       "      <th>rank</th>\n",
       "      <th>Game</th>\n",
       "      <th>Release date</th>\n",
       "      <th>Price</th>\n",
       "      <th>Score rank(Userscore / Metascore)</th>\n",
       "      <th>Owners</th>\n",
       "      <th>Playtime (Median)</th>\n",
       "      <th>Developer(s)</th>\n",
       "      <th>Publisher(s)</th>\n",
       "    </tr>\n",
       "  </thead>\n",
       "  <tbody>\n",
       "    <tr>\n",
       "      <th>0</th>\n",
       "      <td>1560</td>\n",
       "      <td>Paladins</td>\n",
       "      <td>Sep 15, 2016</td>\n",
       "      <td>Free</td>\n",
       "      <td>62% (86%)</td>\n",
       "      <td>14,292,767 ±109,214</td>\n",
       "      <td>20:34 (04:14)</td>\n",
       "      <td>Hi-Rez Studios</td>\n",
       "      <td>Hi-Rez Studios</td>\n",
       "    </tr>\n",
       "    <tr>\n",
       "      <th>1</th>\n",
       "      <td>1275</td>\n",
       "      <td>PLAYERUNKNOWN'S BATTLEGROUNDS</td>\n",
       "      <td>Mar 23, 2017</td>\n",
       "      <td>$29.99</td>\n",
       "      <td>24% (67%)</td>\n",
       "      <td>12,735,911 ±103,275</td>\n",
       "      <td>98:40 (53:21)</td>\n",
       "      <td>Bluehole, Inc.</td>\n",
       "      <td>Bluehole, Inc.</td>\n",
       "    </tr>\n",
       "    <tr>\n",
       "      <th>2</th>\n",
       "      <td>126</td>\n",
       "      <td>Brawlhalla</td>\n",
       "      <td>Apr 30, 2014</td>\n",
       "      <td>Free</td>\n",
       "      <td>62% (86%)</td>\n",
       "      <td>7,613,125 ±80,303</td>\n",
       "      <td>13:34 (02:18)</td>\n",
       "      <td>Blue Mammoth Games</td>\n",
       "      <td>Blue Mammoth Games</td>\n",
       "    </tr>\n",
       "    <tr>\n",
       "      <th>3</th>\n",
       "      <td>561</td>\n",
       "      <td>H1Z1: King of the Kill</td>\n",
       "      <td>Feb 17, 2016</td>\n",
       "      <td>$19.99</td>\n",
       "      <td>19% (62%)</td>\n",
       "      <td>7,365,623 ±79,009</td>\n",
       "      <td>86:47 (19:38)</td>\n",
       "      <td>Daybreak Game Company</td>\n",
       "      <td>Daybreak Game Company</td>\n",
       "    </tr>\n",
       "    <tr>\n",
       "      <th>4</th>\n",
       "      <td>890</td>\n",
       "      <td>Rust</td>\n",
       "      <td>Dec 11, 2013</td>\n",
       "      <td>$19.99</td>\n",
       "      <td>47% (80%)</td>\n",
       "      <td>6,067,079 ±71,810</td>\n",
       "      <td>113:06 (25:01)</td>\n",
       "      <td>Facepunch Studios</td>\n",
       "      <td>Facepunch Studios</td>\n",
       "    </tr>\n",
       "  </tbody>\n",
       "</table>\n",
       "</div>"
      ],
      "text/plain": [
       "   rank                           Game  Release date   Price  \\\n",
       "0  1560                       Paladins  Sep 15, 2016    Free   \n",
       "1  1275  PLAYERUNKNOWN'S BATTLEGROUNDS  Mar 23, 2017  $29.99   \n",
       "2   126                     Brawlhalla  Apr 30, 2014    Free   \n",
       "3   561         H1Z1: King of the Kill  Feb 17, 2016  $19.99   \n",
       "4   890                           Rust  Dec 11, 2013  $19.99   \n",
       "\n",
       "  Score rank(Userscore / Metascore)               Owners Playtime (Median)  \\\n",
       "0                         62% (86%)  14,292,767 ±109,214     20:34 (04:14)   \n",
       "1                         24% (67%)  12,735,911 ±103,275     98:40 (53:21)   \n",
       "2                         62% (86%)    7,613,125 ±80,303     13:34 (02:18)   \n",
       "3                         19% (62%)    7,365,623 ±79,009     86:47 (19:38)   \n",
       "4                         47% (80%)    6,067,079 ±71,810    113:06 (25:01)   \n",
       "\n",
       "            Developer(s)           Publisher(s)  \n",
       "0         Hi-Rez Studios         Hi-Rez Studios  \n",
       "1         Bluehole, Inc.         Bluehole, Inc.  \n",
       "2     Blue Mammoth Games     Blue Mammoth Games  \n",
       "3  Daybreak Game Company  Daybreak Game Company  \n",
       "4      Facepunch Studios      Facepunch Studios  "
      ]
     },
     "execution_count": 695,
     "metadata": {},
     "output_type": "execute_result"
    }
   ],
   "source": [
    "import pandas as pd\n",
    "import numpy as np\n",
    "\n",
    "early_access = pd.read_csv('../data/early_access_a4.csv')\n",
    "early_access.head()\n",
    "#pd.read_csv(file, index_col=0, parse_dates=True)"
   ]
  },
  {
   "cell_type": "code",
   "execution_count": 696,
   "metadata": {},
   "outputs": [
    {
     "data": {
      "text/html": [
       "<div>\n",
       "<table border=\"1\" class=\"dataframe\">\n",
       "  <thead>\n",
       "    <tr style=\"text-align: right;\">\n",
       "      <th></th>\n",
       "      <th>appid</th>\n",
       "      <th>name</th>\n",
       "    </tr>\n",
       "  </thead>\n",
       "  <tbody>\n",
       "    <tr>\n",
       "      <th>0</th>\n",
       "      <td>5</td>\n",
       "      <td>Dedicated Server</td>\n",
       "    </tr>\n",
       "    <tr>\n",
       "      <th>1</th>\n",
       "      <td>7</td>\n",
       "      <td>Steam Client</td>\n",
       "    </tr>\n",
       "    <tr>\n",
       "      <th>2</th>\n",
       "      <td>8</td>\n",
       "      <td>winui2</td>\n",
       "    </tr>\n",
       "    <tr>\n",
       "      <th>3</th>\n",
       "      <td>10</td>\n",
       "      <td>Counter-Strike</td>\n",
       "    </tr>\n",
       "    <tr>\n",
       "      <th>4</th>\n",
       "      <td>20</td>\n",
       "      <td>Team Fortress Classic</td>\n",
       "    </tr>\n",
       "  </tbody>\n",
       "</table>\n",
       "</div>"
      ],
      "text/plain": [
       "   appid                   name\n",
       "0      5       Dedicated Server\n",
       "1      7           Steam Client\n",
       "2      8                 winui2\n",
       "3     10         Counter-Strike\n",
       "4     20  Team Fortress Classic"
      ]
     },
     "execution_count": 696,
     "metadata": {},
     "output_type": "execute_result"
    }
   ],
   "source": [
    "games = pd.read_csv('../data/games_a4.csv')\n",
    "games.head()"
   ]
  },
  {
   "cell_type": "code",
   "execution_count": 697,
   "metadata": {},
   "outputs": [
    {
     "data": {
      "text/html": [
       "<div>\n",
       "<table border=\"1\" class=\"dataframe\">\n",
       "  <thead>\n",
       "    <tr style=\"text-align: right;\">\n",
       "      <th></th>\n",
       "      <th>Rank</th>\n",
       "      <th>name</th>\n",
       "      <th>Release date</th>\n",
       "      <th>Price</th>\n",
       "      <th>Score rank(Userscore/Metascore)</th>\n",
       "      <th>Owners</th>\n",
       "      <th>Playtime(Median)</th>\n",
       "      <th>Developer(s)</th>\n",
       "      <th>Publisher(s)</th>\n",
       "    </tr>\n",
       "  </thead>\n",
       "  <tbody>\n",
       "    <tr>\n",
       "      <th>0</th>\n",
       "      <td>1560</td>\n",
       "      <td>Paladins</td>\n",
       "      <td>Sep 15, 2016</td>\n",
       "      <td>Free</td>\n",
       "      <td>62% (86%)</td>\n",
       "      <td>14,292,767 ±109,214</td>\n",
       "      <td>20:34 (04:14)</td>\n",
       "      <td>Hi-Rez Studios</td>\n",
       "      <td>Hi-Rez Studios</td>\n",
       "    </tr>\n",
       "    <tr>\n",
       "      <th>1</th>\n",
       "      <td>1275</td>\n",
       "      <td>PLAYERUNKNOWN'S BATTLEGROUNDS</td>\n",
       "      <td>Mar 23, 2017</td>\n",
       "      <td>$29.99</td>\n",
       "      <td>24% (67%)</td>\n",
       "      <td>12,735,911 ±103,275</td>\n",
       "      <td>98:40 (53:21)</td>\n",
       "      <td>Bluehole, Inc.</td>\n",
       "      <td>Bluehole, Inc.</td>\n",
       "    </tr>\n",
       "    <tr>\n",
       "      <th>2</th>\n",
       "      <td>126</td>\n",
       "      <td>Brawlhalla</td>\n",
       "      <td>Apr 30, 2014</td>\n",
       "      <td>Free</td>\n",
       "      <td>62% (86%)</td>\n",
       "      <td>7,613,125 ±80,303</td>\n",
       "      <td>13:34 (02:18)</td>\n",
       "      <td>Blue Mammoth Games</td>\n",
       "      <td>Blue Mammoth Games</td>\n",
       "    </tr>\n",
       "    <tr>\n",
       "      <th>3</th>\n",
       "      <td>561</td>\n",
       "      <td>H1Z1: King of the Kill</td>\n",
       "      <td>Feb 17, 2016</td>\n",
       "      <td>$19.99</td>\n",
       "      <td>19% (62%)</td>\n",
       "      <td>7,365,623 ±79,009</td>\n",
       "      <td>86:47 (19:38)</td>\n",
       "      <td>Daybreak Game Company</td>\n",
       "      <td>Daybreak Game Company</td>\n",
       "    </tr>\n",
       "    <tr>\n",
       "      <th>4</th>\n",
       "      <td>890</td>\n",
       "      <td>Rust</td>\n",
       "      <td>Dec 11, 2013</td>\n",
       "      <td>$19.99</td>\n",
       "      <td>47% (80%)</td>\n",
       "      <td>6,067,079 ±71,810</td>\n",
       "      <td>113:06 (25:01)</td>\n",
       "      <td>Facepunch Studios</td>\n",
       "      <td>Facepunch Studios</td>\n",
       "    </tr>\n",
       "  </tbody>\n",
       "</table>\n",
       "</div>"
      ],
      "text/plain": [
       "   Rank                           name  Release date   Price  \\\n",
       "0  1560                       Paladins  Sep 15, 2016    Free   \n",
       "1  1275  PLAYERUNKNOWN'S BATTLEGROUNDS  Mar 23, 2017  $29.99   \n",
       "2   126                     Brawlhalla  Apr 30, 2014    Free   \n",
       "3   561         H1Z1: King of the Kill  Feb 17, 2016  $19.99   \n",
       "4   890                           Rust  Dec 11, 2013  $19.99   \n",
       "\n",
       "  Score rank(Userscore/Metascore)               Owners Playtime(Median)  \\\n",
       "0                       62% (86%)  14,292,767 ±109,214    20:34 (04:14)   \n",
       "1                       24% (67%)  12,735,911 ±103,275    98:40 (53:21)   \n",
       "2                       62% (86%)    7,613,125 ±80,303    13:34 (02:18)   \n",
       "3                       19% (62%)    7,365,623 ±79,009    86:47 (19:38)   \n",
       "4                       47% (80%)    6,067,079 ±71,810   113:06 (25:01)   \n",
       "\n",
       "            Developer(s)           Publisher(s)  \n",
       "0         Hi-Rez Studios         Hi-Rez Studios  \n",
       "1         Bluehole, Inc.         Bluehole, Inc.  \n",
       "2     Blue Mammoth Games     Blue Mammoth Games  \n",
       "3  Daybreak Game Company  Daybreak Game Company  \n",
       "4      Facepunch Studios      Facepunch Studios  "
      ]
     },
     "execution_count": 697,
     "metadata": {},
     "output_type": "execute_result"
    }
   ],
   "source": [
    "early_access.columns = ['Rank', 'name', 'Release date', 'Price', 'Score rank(Userscore/Metascore)', 'Owners', 'Playtime(Median)', 'Developer(s)', 'Publisher(s)']\n",
    "early_access.head()"
   ]
  },
  {
   "cell_type": "code",
   "execution_count": 698,
   "metadata": {},
   "outputs": [
    {
     "data": {
      "text/html": [
       "<div>\n",
       "<table border=\"1\" class=\"dataframe\">\n",
       "  <thead>\n",
       "    <tr style=\"text-align: right;\">\n",
       "      <th></th>\n",
       "      <th>appid</th>\n",
       "      <th>name</th>\n",
       "      <th>Rank</th>\n",
       "      <th>Release date</th>\n",
       "      <th>Price</th>\n",
       "      <th>Score rank(Userscore/Metascore)</th>\n",
       "      <th>Owners</th>\n",
       "      <th>Playtime(Median)</th>\n",
       "      <th>Developer(s)</th>\n",
       "      <th>Publisher(s)</th>\n",
       "    </tr>\n",
       "  </thead>\n",
       "  <tbody>\n",
       "    <tr>\n",
       "      <th>0</th>\n",
       "      <td>15540</td>\n",
       "      <td>1... 2... 3... KICK IT! (Drop That Beat Like a...</td>\n",
       "      <td>876</td>\n",
       "      <td>NaN</td>\n",
       "      <td>$9.99</td>\n",
       "      <td>2% (31%)</td>\n",
       "      <td>104,271 ±9,475</td>\n",
       "      <td>01:51 (00:33)</td>\n",
       "      <td>Dejobaan Games, LLC</td>\n",
       "      <td>Dejobaan Games, LLC</td>\n",
       "    </tr>\n",
       "    <tr>\n",
       "      <th>1</th>\n",
       "      <td>25000</td>\n",
       "      <td>Overgrowth</td>\n",
       "      <td>1375</td>\n",
       "      <td>NaN</td>\n",
       "      <td>$29.99</td>\n",
       "      <td>35% (74%)</td>\n",
       "      <td>252,007 ±14,728</td>\n",
       "      <td>07:17 (02:58)</td>\n",
       "      <td>Wolfire</td>\n",
       "      <td>Wolfire</td>\n",
       "    </tr>\n",
       "    <tr>\n",
       "      <th>2</th>\n",
       "      <td>72200</td>\n",
       "      <td>Universe Sandbox</td>\n",
       "      <td>939</td>\n",
       "      <td>Aug 24, 2015</td>\n",
       "      <td>$24.99</td>\n",
       "      <td>86% (93%)</td>\n",
       "      <td>307,408 ±16,266</td>\n",
       "      <td>13:15 (03:17)</td>\n",
       "      <td>Giant Army</td>\n",
       "      <td>Giant Army</td>\n",
       "    </tr>\n",
       "    <tr>\n",
       "      <th>3</th>\n",
       "      <td>80776</td>\n",
       "      <td>Universe Sandbox</td>\n",
       "      <td>939</td>\n",
       "      <td>Aug 24, 2015</td>\n",
       "      <td>$24.99</td>\n",
       "      <td>86% (93%)</td>\n",
       "      <td>307,408 ±16,266</td>\n",
       "      <td>13:15 (03:17)</td>\n",
       "      <td>Giant Army</td>\n",
       "      <td>Giant Army</td>\n",
       "    </tr>\n",
       "    <tr>\n",
       "      <th>4</th>\n",
       "      <td>108600</td>\n",
       "      <td>Project Zomboid</td>\n",
       "      <td>1086</td>\n",
       "      <td>Nov 8, 2013</td>\n",
       "      <td>$14.99</td>\n",
       "      <td>65% (87%)</td>\n",
       "      <td>865,696 ±27,280</td>\n",
       "      <td>22:30 (06:14)</td>\n",
       "      <td>The Indie Stone</td>\n",
       "      <td>The Indie Stone</td>\n",
       "    </tr>\n",
       "  </tbody>\n",
       "</table>\n",
       "</div>"
      ],
      "text/plain": [
       "    appid                                               name  Rank  \\\n",
       "0   15540  1... 2... 3... KICK IT! (Drop That Beat Like a...   876   \n",
       "1   25000                                         Overgrowth  1375   \n",
       "2   72200                                   Universe Sandbox   939   \n",
       "3   80776                                   Universe Sandbox   939   \n",
       "4  108600                                    Project Zomboid  1086   \n",
       "\n",
       "   Release date   Price Score rank(Userscore/Metascore)           Owners  \\\n",
       "0           NaN   $9.99                        2% (31%)   104,271 ±9,475   \n",
       "1           NaN  $29.99                       35% (74%)  252,007 ±14,728   \n",
       "2  Aug 24, 2015  $24.99                       86% (93%)  307,408 ±16,266   \n",
       "3  Aug 24, 2015  $24.99                       86% (93%)  307,408 ±16,266   \n",
       "4   Nov 8, 2013  $14.99                       65% (87%)  865,696 ±27,280   \n",
       "\n",
       "  Playtime(Median)         Developer(s)         Publisher(s)  \n",
       "0    01:51 (00:33)  Dejobaan Games, LLC  Dejobaan Games, LLC  \n",
       "1    07:17 (02:58)              Wolfire              Wolfire  \n",
       "2    13:15 (03:17)           Giant Army           Giant Army  \n",
       "3    13:15 (03:17)           Giant Army           Giant Army  \n",
       "4    22:30 (06:14)      The Indie Stone      The Indie Stone  "
      ]
     },
     "execution_count": 698,
     "metadata": {},
     "output_type": "execute_result"
    }
   ],
   "source": [
    "early_access_merged = pd.merge(games, early_access, on='name', how='inner')\n",
    "early_access_merged.head()"
   ]
  },
  {
   "cell_type": "code",
   "execution_count": 699,
   "metadata": {},
   "outputs": [
    {
     "data": {
      "text/html": [
       "<div>\n",
       "<table border=\"1\" class=\"dataframe\">\n",
       "  <thead>\n",
       "    <tr style=\"text-align: right;\">\n",
       "      <th></th>\n",
       "      <th>rank</th>\n",
       "      <th>Game</th>\n",
       "      <th>Release date</th>\n",
       "      <th>Price</th>\n",
       "      <th>Score rank(Userscore / Metascore)</th>\n",
       "      <th>Owners</th>\n",
       "      <th>Players</th>\n",
       "      <th>Playtime (Median)</th>\n",
       "      <th>Developer(s)</th>\n",
       "      <th>Publisher(s)</th>\n",
       "    </tr>\n",
       "  </thead>\n",
       "  <tbody>\n",
       "    <tr>\n",
       "      <th>0</th>\n",
       "      <td>3</td>\n",
       "      <td>Unturned</td>\n",
       "      <td>Jul 7, 2017</td>\n",
       "      <td>Free</td>\n",
       "      <td>77% (91%)</td>\n",
       "      <td>32,727,993 ±161,809</td>\n",
       "      <td>26,277,162 ±146,079</td>\n",
       "      <td>20:46 (02:40)</td>\n",
       "      <td>Smartly Dressed Games</td>\n",
       "      <td>Smartly Dressed Games</td>\n",
       "    </tr>\n",
       "    <tr>\n",
       "      <th>1</th>\n",
       "      <td>7</td>\n",
       "      <td>Heroes &amp; Generals</td>\n",
       "      <td>Oct 18, 2016</td>\n",
       "      <td>Free</td>\n",
       "      <td>23% (66%)</td>\n",
       "      <td>15,750,082 ±114,459</td>\n",
       "      <td>11,175,000 ±96,908</td>\n",
       "      <td>12:48 (00:51)</td>\n",
       "      <td>Reto-Moto</td>\n",
       "      <td>Reto-Moto</td>\n",
       "    </tr>\n",
       "    <tr>\n",
       "      <th>2</th>\n",
       "      <td>6</td>\n",
       "      <td>Robocraft</td>\n",
       "      <td>Aug 24, 2017</td>\n",
       "      <td>Free</td>\n",
       "      <td>32% (72%)</td>\n",
       "      <td>13,418,063 ±105,923</td>\n",
       "      <td>9,778,041 ±90,790</td>\n",
       "      <td>19:12 (02:19)</td>\n",
       "      <td>Freejam</td>\n",
       "      <td>Freejam</td>\n",
       "    </tr>\n",
       "    <tr>\n",
       "      <th>3</th>\n",
       "      <td>106</td>\n",
       "      <td>ARK: Survival Of The Fittest</td>\n",
       "      <td>Aug 29, 2017</td>\n",
       "      <td>Free</td>\n",
       "      <td>21% (64%)</td>\n",
       "      <td>7,408,637 ±79,235</td>\n",
       "      <td>1,958,401 ±40,983</td>\n",
       "      <td>03:44 (00:24)</td>\n",
       "      <td>Studio Wildcard, Instinct Games, Efecto Studio...</td>\n",
       "      <td>Studio Wildcard</td>\n",
       "    </tr>\n",
       "    <tr>\n",
       "      <th>4</th>\n",
       "      <td>5</td>\n",
       "      <td>Don't Starve Together</td>\n",
       "      <td>Apr 21, 2016</td>\n",
       "      <td>$14.99</td>\n",
       "      <td>95% (96%/83%)</td>\n",
       "      <td>6,782,336 ±75,865</td>\n",
       "      <td>5,443,030 ±68,063</td>\n",
       "      <td>25:52 (08:40)</td>\n",
       "      <td>Klei Entertainment</td>\n",
       "      <td>Klei Entertainment</td>\n",
       "    </tr>\n",
       "  </tbody>\n",
       "</table>\n",
       "</div>"
      ],
      "text/plain": [
       "   rank                          Game  Release date   Price  \\\n",
       "0     3                      Unturned   Jul 7, 2017    Free   \n",
       "1     7             Heroes & Generals  Oct 18, 2016    Free   \n",
       "2     6                     Robocraft  Aug 24, 2017    Free   \n",
       "3   106  ARK: Survival Of The Fittest  Aug 29, 2017    Free   \n",
       "4     5         Don't Starve Together  Apr 21, 2016  $14.99   \n",
       "\n",
       "  Score rank(Userscore / Metascore)               Owners              Players  \\\n",
       "0                         77% (91%)  32,727,993 ±161,809  26,277,162 ±146,079   \n",
       "1                         23% (66%)  15,750,082 ±114,459   11,175,000 ±96,908   \n",
       "2                         32% (72%)  13,418,063 ±105,923    9,778,041 ±90,790   \n",
       "3                         21% (64%)    7,408,637 ±79,235    1,958,401 ±40,983   \n",
       "4                     95% (96%/83%)    6,782,336 ±75,865    5,443,030 ±68,063   \n",
       "\n",
       "  Playtime (Median)                                       Developer(s)  \\\n",
       "0     20:46 (02:40)                              Smartly Dressed Games   \n",
       "1     12:48 (00:51)                                          Reto-Moto   \n",
       "2     19:12 (02:19)                                            Freejam   \n",
       "3     03:44 (00:24)  Studio Wildcard, Instinct Games, Efecto Studio...   \n",
       "4     25:52 (08:40)                                 Klei Entertainment   \n",
       "\n",
       "            Publisher(s)  \n",
       "0  Smartly Dressed Games  \n",
       "1              Reto-Moto  \n",
       "2                Freejam  \n",
       "3        Studio Wildcard  \n",
       "4     Klei Entertainment  "
      ]
     },
     "execution_count": 699,
     "metadata": {},
     "output_type": "execute_result"
    }
   ],
   "source": [
    "ex_early_access = pd.read_csv('../data/ex_early_access_a4.csv')\n",
    "ex_early_access.head()"
   ]
  },
  {
   "cell_type": "code",
   "execution_count": 700,
   "metadata": {},
   "outputs": [
    {
     "data": {
      "text/html": [
       "<div>\n",
       "<table border=\"1\" class=\"dataframe\">\n",
       "  <thead>\n",
       "    <tr style=\"text-align: right;\">\n",
       "      <th></th>\n",
       "      <th>Rank</th>\n",
       "      <th>name</th>\n",
       "      <th>Release date</th>\n",
       "      <th>Price</th>\n",
       "      <th>Score rank(Userscore/Metascore)</th>\n",
       "      <th>Owners</th>\n",
       "      <th>Players</th>\n",
       "      <th>Playtime(Median)</th>\n",
       "      <th>Developer(s)</th>\n",
       "      <th>Publisher(s)</th>\n",
       "    </tr>\n",
       "  </thead>\n",
       "  <tbody>\n",
       "    <tr>\n",
       "      <th>0</th>\n",
       "      <td>3</td>\n",
       "      <td>Unturned</td>\n",
       "      <td>Jul 7, 2017</td>\n",
       "      <td>Free</td>\n",
       "      <td>77% (91%)</td>\n",
       "      <td>32,727,993 ±161,809</td>\n",
       "      <td>26,277,162 ±146,079</td>\n",
       "      <td>20:46 (02:40)</td>\n",
       "      <td>Smartly Dressed Games</td>\n",
       "      <td>Smartly Dressed Games</td>\n",
       "    </tr>\n",
       "    <tr>\n",
       "      <th>1</th>\n",
       "      <td>7</td>\n",
       "      <td>Heroes &amp; Generals</td>\n",
       "      <td>Oct 18, 2016</td>\n",
       "      <td>Free</td>\n",
       "      <td>23% (66%)</td>\n",
       "      <td>15,750,082 ±114,459</td>\n",
       "      <td>11,175,000 ±96,908</td>\n",
       "      <td>12:48 (00:51)</td>\n",
       "      <td>Reto-Moto</td>\n",
       "      <td>Reto-Moto</td>\n",
       "    </tr>\n",
       "    <tr>\n",
       "      <th>2</th>\n",
       "      <td>6</td>\n",
       "      <td>Robocraft</td>\n",
       "      <td>Aug 24, 2017</td>\n",
       "      <td>Free</td>\n",
       "      <td>32% (72%)</td>\n",
       "      <td>13,418,063 ±105,923</td>\n",
       "      <td>9,778,041 ±90,790</td>\n",
       "      <td>19:12 (02:19)</td>\n",
       "      <td>Freejam</td>\n",
       "      <td>Freejam</td>\n",
       "    </tr>\n",
       "    <tr>\n",
       "      <th>3</th>\n",
       "      <td>106</td>\n",
       "      <td>ARK: Survival Of The Fittest</td>\n",
       "      <td>Aug 29, 2017</td>\n",
       "      <td>Free</td>\n",
       "      <td>21% (64%)</td>\n",
       "      <td>7,408,637 ±79,235</td>\n",
       "      <td>1,958,401 ±40,983</td>\n",
       "      <td>03:44 (00:24)</td>\n",
       "      <td>Studio Wildcard, Instinct Games, Efecto Studio...</td>\n",
       "      <td>Studio Wildcard</td>\n",
       "    </tr>\n",
       "    <tr>\n",
       "      <th>4</th>\n",
       "      <td>5</td>\n",
       "      <td>Don't Starve Together</td>\n",
       "      <td>Apr 21, 2016</td>\n",
       "      <td>$14.99</td>\n",
       "      <td>95% (96%/83%)</td>\n",
       "      <td>6,782,336 ±75,865</td>\n",
       "      <td>5,443,030 ±68,063</td>\n",
       "      <td>25:52 (08:40)</td>\n",
       "      <td>Klei Entertainment</td>\n",
       "      <td>Klei Entertainment</td>\n",
       "    </tr>\n",
       "  </tbody>\n",
       "</table>\n",
       "</div>"
      ],
      "text/plain": [
       "   Rank                          name  Release date   Price  \\\n",
       "0     3                      Unturned   Jul 7, 2017    Free   \n",
       "1     7             Heroes & Generals  Oct 18, 2016    Free   \n",
       "2     6                     Robocraft  Aug 24, 2017    Free   \n",
       "3   106  ARK: Survival Of The Fittest  Aug 29, 2017    Free   \n",
       "4     5         Don't Starve Together  Apr 21, 2016  $14.99   \n",
       "\n",
       "  Score rank(Userscore/Metascore)               Owners              Players  \\\n",
       "0                       77% (91%)  32,727,993 ±161,809  26,277,162 ±146,079   \n",
       "1                       23% (66%)  15,750,082 ±114,459   11,175,000 ±96,908   \n",
       "2                       32% (72%)  13,418,063 ±105,923    9,778,041 ±90,790   \n",
       "3                       21% (64%)    7,408,637 ±79,235    1,958,401 ±40,983   \n",
       "4                   95% (96%/83%)    6,782,336 ±75,865    5,443,030 ±68,063   \n",
       "\n",
       "  Playtime(Median)                                       Developer(s)  \\\n",
       "0    20:46 (02:40)                              Smartly Dressed Games   \n",
       "1    12:48 (00:51)                                          Reto-Moto   \n",
       "2    19:12 (02:19)                                            Freejam   \n",
       "3    03:44 (00:24)  Studio Wildcard, Instinct Games, Efecto Studio...   \n",
       "4    25:52 (08:40)                                 Klei Entertainment   \n",
       "\n",
       "            Publisher(s)  \n",
       "0  Smartly Dressed Games  \n",
       "1              Reto-Moto  \n",
       "2                Freejam  \n",
       "3        Studio Wildcard  \n",
       "4     Klei Entertainment  "
      ]
     },
     "execution_count": 700,
     "metadata": {},
     "output_type": "execute_result"
    }
   ],
   "source": [
    "ex_early_access.columns = ['Rank', 'name', 'Release date', 'Price', 'Score rank(Userscore/Metascore)', 'Owners', 'Players', 'Playtime(Median)', 'Developer(s)', 'Publisher(s)']\n",
    "ex_early_access.head()"
   ]
  },
  {
   "cell_type": "code",
   "execution_count": 701,
   "metadata": {},
   "outputs": [
    {
     "data": {
      "text/html": [
       "<div>\n",
       "<table border=\"1\" class=\"dataframe\">\n",
       "  <thead>\n",
       "    <tr style=\"text-align: right;\">\n",
       "      <th></th>\n",
       "      <th>appid</th>\n",
       "      <th>name</th>\n",
       "      <th>Rank</th>\n",
       "      <th>Release date</th>\n",
       "      <th>Price</th>\n",
       "      <th>Score rank(Userscore/Metascore)</th>\n",
       "      <th>Owners</th>\n",
       "      <th>Players</th>\n",
       "      <th>Playtime(Median)</th>\n",
       "      <th>Developer(s)</th>\n",
       "      <th>Publisher(s)</th>\n",
       "    </tr>\n",
       "  </thead>\n",
       "  <tbody>\n",
       "    <tr>\n",
       "      <th>0</th>\n",
       "      <td>107410</td>\n",
       "      <td>Arma 3</td>\n",
       "      <td>4</td>\n",
       "      <td>Sep 12, 2013</td>\n",
       "      <td>$39.99</td>\n",
       "      <td>74% (90%/74%)</td>\n",
       "      <td>3,609,169 ±55,535</td>\n",
       "      <td>3,514,807 ±54,810</td>\n",
       "      <td>182:14 (33:59)</td>\n",
       "      <td>Bohemia Interactive</td>\n",
       "      <td>Bohemia Interactive</td>\n",
       "    </tr>\n",
       "    <tr>\n",
       "      <th>1</th>\n",
       "      <td>202090</td>\n",
       "      <td>Magicka: Wizard Wars</td>\n",
       "      <td>359</td>\n",
       "      <td>Apr 28, 2015</td>\n",
       "      <td>Free</td>\n",
       "      <td>N/A (N/A/69%)</td>\n",
       "      <td>3,669,749 ±55,996</td>\n",
       "      <td>2,008,171 ±41,498</td>\n",
       "      <td>03:50 (00:48)</td>\n",
       "      <td>Paradox North</td>\n",
       "      <td>Paradox Interactive</td>\n",
       "    </tr>\n",
       "    <tr>\n",
       "      <th>2</th>\n",
       "      <td>207140</td>\n",
       "      <td>SpeedRunners</td>\n",
       "      <td>25</td>\n",
       "      <td>Apr 19, 2016</td>\n",
       "      <td>$14.99</td>\n",
       "      <td>89% (94%/84%)</td>\n",
       "      <td>1,659,776 ±37,741</td>\n",
       "      <td>1,436,371 ±35,118</td>\n",
       "      <td>10:59 (04:24)</td>\n",
       "      <td>DoubleDutch Games</td>\n",
       "      <td>tinyBuild</td>\n",
       "    </tr>\n",
       "    <tr>\n",
       "      <th>3</th>\n",
       "      <td>211820</td>\n",
       "      <td>Starbound</td>\n",
       "      <td>10</td>\n",
       "      <td>Jul 22, 2016</td>\n",
       "      <td>$14.99</td>\n",
       "      <td>74% (90%/81%)</td>\n",
       "      <td>3,026,333 ±50,886</td>\n",
       "      <td>2,938,052 ±50,143</td>\n",
       "      <td>55:48 (25:56)</td>\n",
       "      <td>Chucklefish</td>\n",
       "      <td>Chucklefish</td>\n",
       "    </tr>\n",
       "    <tr>\n",
       "      <th>4</th>\n",
       "      <td>214420</td>\n",
       "      <td>Gear Up</td>\n",
       "      <td>138</td>\n",
       "      <td>Jan 28, 2015</td>\n",
       "      <td>Free</td>\n",
       "      <td>35% (74%)</td>\n",
       "      <td>2,504,303 ±46,316</td>\n",
       "      <td>1,769,902 ±38,968</td>\n",
       "      <td>02:43 (00:23)</td>\n",
       "      <td>Doctor Entertainment AB</td>\n",
       "      <td>Doctor Entertainment AB</td>\n",
       "    </tr>\n",
       "  </tbody>\n",
       "</table>\n",
       "</div>"
      ],
      "text/plain": [
       "    appid                  name  Rank  Release date   Price  \\\n",
       "0  107410                Arma 3     4  Sep 12, 2013  $39.99   \n",
       "1  202090  Magicka: Wizard Wars   359  Apr 28, 2015    Free   \n",
       "2  207140          SpeedRunners    25  Apr 19, 2016  $14.99   \n",
       "3  211820             Starbound    10  Jul 22, 2016  $14.99   \n",
       "4  214420               Gear Up   138  Jan 28, 2015    Free   \n",
       "\n",
       "  Score rank(Userscore/Metascore)             Owners            Players  \\\n",
       "0                   74% (90%/74%)  3,609,169 ±55,535  3,514,807 ±54,810   \n",
       "1                   N/A (N/A/69%)  3,669,749 ±55,996  2,008,171 ±41,498   \n",
       "2                   89% (94%/84%)  1,659,776 ±37,741  1,436,371 ±35,118   \n",
       "3                   74% (90%/81%)  3,026,333 ±50,886  2,938,052 ±50,143   \n",
       "4                       35% (74%)  2,504,303 ±46,316  1,769,902 ±38,968   \n",
       "\n",
       "  Playtime(Median)             Developer(s)             Publisher(s)  \n",
       "0   182:14 (33:59)      Bohemia Interactive      Bohemia Interactive  \n",
       "1    03:50 (00:48)            Paradox North      Paradox Interactive  \n",
       "2    10:59 (04:24)        DoubleDutch Games                tinyBuild  \n",
       "3    55:48 (25:56)              Chucklefish              Chucklefish  \n",
       "4    02:43 (00:23)  Doctor Entertainment AB  Doctor Entertainment AB  "
      ]
     },
     "execution_count": 701,
     "metadata": {},
     "output_type": "execute_result"
    }
   ],
   "source": [
    "ex_early_access_merged = pd.merge(games, ex_early_access, on='name', how='inner')\n",
    "ex_early_access_merged.head()"
   ]
  },
  {
   "cell_type": "markdown",
   "metadata": {},
   "source": [
    "### Added the column for 'is early access' and set values to True or False respectively. Combined the tables, early_access_merged with ex_early_access_merged to have all the info in one table"
   ]
  },
  {
   "cell_type": "code",
   "execution_count": 702,
   "metadata": {
    "scrolled": true
   },
   "outputs": [
    {
     "data": {
      "text/html": [
       "<div>\n",
       "<table border=\"1\" class=\"dataframe\">\n",
       "  <thead>\n",
       "    <tr style=\"text-align: right;\">\n",
       "      <th></th>\n",
       "      <th>appid</th>\n",
       "      <th>name</th>\n",
       "      <th>Rank</th>\n",
       "      <th>Release date</th>\n",
       "      <th>Price</th>\n",
       "      <th>Score rank(Userscore/Metascore)</th>\n",
       "      <th>Owners</th>\n",
       "      <th>Playtime(Median)</th>\n",
       "      <th>Developer(s)</th>\n",
       "      <th>Publisher(s)</th>\n",
       "      <th>is early access?</th>\n",
       "      <th>Players</th>\n",
       "    </tr>\n",
       "  </thead>\n",
       "  <tbody>\n",
       "    <tr>\n",
       "      <th>0</th>\n",
       "      <td>15540</td>\n",
       "      <td>1... 2... 3... KICK IT! (Drop That Beat Like a...</td>\n",
       "      <td>876</td>\n",
       "      <td>NaN</td>\n",
       "      <td>$9.99</td>\n",
       "      <td>2% (31%)</td>\n",
       "      <td>104,271 ±9,475</td>\n",
       "      <td>01:51 (00:33)</td>\n",
       "      <td>Dejobaan Games, LLC</td>\n",
       "      <td>Dejobaan Games, LLC</td>\n",
       "      <td>True</td>\n",
       "      <td>NaN</td>\n",
       "    </tr>\n",
       "    <tr>\n",
       "      <th>1</th>\n",
       "      <td>25000</td>\n",
       "      <td>Overgrowth</td>\n",
       "      <td>1375</td>\n",
       "      <td>NaN</td>\n",
       "      <td>$29.99</td>\n",
       "      <td>35% (74%)</td>\n",
       "      <td>252,007 ±14,728</td>\n",
       "      <td>07:17 (02:58)</td>\n",
       "      <td>Wolfire</td>\n",
       "      <td>Wolfire</td>\n",
       "      <td>True</td>\n",
       "      <td>NaN</td>\n",
       "    </tr>\n",
       "    <tr>\n",
       "      <th>2</th>\n",
       "      <td>72200</td>\n",
       "      <td>Universe Sandbox</td>\n",
       "      <td>939</td>\n",
       "      <td>Aug 24, 2015</td>\n",
       "      <td>$24.99</td>\n",
       "      <td>86% (93%)</td>\n",
       "      <td>307,408 ±16,266</td>\n",
       "      <td>13:15 (03:17)</td>\n",
       "      <td>Giant Army</td>\n",
       "      <td>Giant Army</td>\n",
       "      <td>True</td>\n",
       "      <td>NaN</td>\n",
       "    </tr>\n",
       "    <tr>\n",
       "      <th>3</th>\n",
       "      <td>80776</td>\n",
       "      <td>Universe Sandbox</td>\n",
       "      <td>939</td>\n",
       "      <td>Aug 24, 2015</td>\n",
       "      <td>$24.99</td>\n",
       "      <td>86% (93%)</td>\n",
       "      <td>307,408 ±16,266</td>\n",
       "      <td>13:15 (03:17)</td>\n",
       "      <td>Giant Army</td>\n",
       "      <td>Giant Army</td>\n",
       "      <td>True</td>\n",
       "      <td>NaN</td>\n",
       "    </tr>\n",
       "    <tr>\n",
       "      <th>4</th>\n",
       "      <td>108600</td>\n",
       "      <td>Project Zomboid</td>\n",
       "      <td>1086</td>\n",
       "      <td>Nov 8, 2013</td>\n",
       "      <td>$14.99</td>\n",
       "      <td>65% (87%)</td>\n",
       "      <td>865,696 ±27,280</td>\n",
       "      <td>22:30 (06:14)</td>\n",
       "      <td>The Indie Stone</td>\n",
       "      <td>The Indie Stone</td>\n",
       "      <td>True</td>\n",
       "      <td>NaN</td>\n",
       "    </tr>\n",
       "  </tbody>\n",
       "</table>\n",
       "</div>"
      ],
      "text/plain": [
       "    appid                                               name  Rank  \\\n",
       "0   15540  1... 2... 3... KICK IT! (Drop That Beat Like a...   876   \n",
       "1   25000                                         Overgrowth  1375   \n",
       "2   72200                                   Universe Sandbox   939   \n",
       "3   80776                                   Universe Sandbox   939   \n",
       "4  108600                                    Project Zomboid  1086   \n",
       "\n",
       "   Release date   Price Score rank(Userscore/Metascore)           Owners  \\\n",
       "0           NaN   $9.99                        2% (31%)   104,271 ±9,475   \n",
       "1           NaN  $29.99                       35% (74%)  252,007 ±14,728   \n",
       "2  Aug 24, 2015  $24.99                       86% (93%)  307,408 ±16,266   \n",
       "3  Aug 24, 2015  $24.99                       86% (93%)  307,408 ±16,266   \n",
       "4   Nov 8, 2013  $14.99                       65% (87%)  865,696 ±27,280   \n",
       "\n",
       "  Playtime(Median)         Developer(s)         Publisher(s) is early access?  \\\n",
       "0    01:51 (00:33)  Dejobaan Games, LLC  Dejobaan Games, LLC             True   \n",
       "1    07:17 (02:58)              Wolfire              Wolfire             True   \n",
       "2    13:15 (03:17)           Giant Army           Giant Army             True   \n",
       "3    13:15 (03:17)           Giant Army           Giant Army             True   \n",
       "4    22:30 (06:14)      The Indie Stone      The Indie Stone             True   \n",
       "\n",
       "  Players  \n",
       "0     NaN  \n",
       "1     NaN  \n",
       "2     NaN  \n",
       "3     NaN  \n",
       "4     NaN  "
      ]
     },
     "execution_count": 702,
     "metadata": {},
     "output_type": "execute_result"
    }
   ],
   "source": [
    "early_access_merged['is early access?'] = True\n",
    "ex_early_access_merged['is early access?'] = False\n",
    "\n",
    "full_table = pd.merge(early_access_merged, ex_early_access_merged, how='outer')\n",
    "full_table.to_pickle('../data/early_access pickle')\n",
    "full_table.head()"
   ]
  },
  {
   "cell_type": "code",
   "execution_count": 703,
   "metadata": {},
   "outputs": [],
   "source": [
    "#In the Price column, the $ sign was removed and made Free into 0 so that it would be easier to manipulate data\n",
    "ex_early_access_merged['Price'] = ex_early_access_merged['Price'].str.replace('$', '')\n",
    "ex_early_access_merged['Price'] = ex_early_access_merged['Price'].str.replace('Free', '0')"
   ]
  },
  {
   "cell_type": "code",
   "execution_count": 704,
   "metadata": {},
   "outputs": [
    {
     "name": "stdout",
     "output_type": "stream",
     "text": [
      "0    39.99\n",
      "1     0.00\n",
      "2    14.99\n",
      "3    14.99\n",
      "4     0.00\n",
      "Name: Price, dtype: float64\n"
     ]
    }
   ],
   "source": [
    "#Converting all values in Price column into numeric values \n",
    "ex_early_access_merged['Price'] = pd.to_numeric(ex_early_access_merged['Price'], errors='coerce')\n",
    "print ex_early_access_merged['Price'].head()"
   ]
  },
  {
   "cell_type": "code",
   "execution_count": 705,
   "metadata": {},
   "outputs": [
    {
     "data": {
      "text/html": [
       "<div>\n",
       "<table border=\"1\" class=\"dataframe\">\n",
       "  <thead>\n",
       "    <tr style=\"text-align: right;\">\n",
       "      <th></th>\n",
       "      <th>appid</th>\n",
       "      <th>name</th>\n",
       "      <th>Rank</th>\n",
       "      <th>Release date</th>\n",
       "      <th>Price</th>\n",
       "      <th>Score rank(Userscore/Metascore)</th>\n",
       "      <th>Owners</th>\n",
       "      <th>Players</th>\n",
       "      <th>Playtime(Median)</th>\n",
       "      <th>Developer(s)</th>\n",
       "      <th>Publisher(s)</th>\n",
       "      <th>is early access?</th>\n",
       "    </tr>\n",
       "  </thead>\n",
       "  <tbody>\n",
       "    <tr>\n",
       "      <th>0</th>\n",
       "      <td>107410</td>\n",
       "      <td>Arma 3</td>\n",
       "      <td>4</td>\n",
       "      <td>Sep 12, 2013</td>\n",
       "      <td>39.99</td>\n",
       "      <td>74% (90%/74%)</td>\n",
       "      <td>3,609,169 ±55,535</td>\n",
       "      <td>3,514,807 ±54,810</td>\n",
       "      <td>182:14 (33:59)</td>\n",
       "      <td>Bohemia Interactive</td>\n",
       "      <td>Bohemia Interactive</td>\n",
       "      <td>False</td>\n",
       "    </tr>\n",
       "    <tr>\n",
       "      <th>1</th>\n",
       "      <td>202090</td>\n",
       "      <td>Magicka: Wizard Wars</td>\n",
       "      <td>359</td>\n",
       "      <td>Apr 28, 2015</td>\n",
       "      <td>0.00</td>\n",
       "      <td>N/A (N/A/69%)</td>\n",
       "      <td>3,669,749 ±55,996</td>\n",
       "      <td>2,008,171 ±41,498</td>\n",
       "      <td>03:50 (00:48)</td>\n",
       "      <td>Paradox North</td>\n",
       "      <td>Paradox Interactive</td>\n",
       "      <td>False</td>\n",
       "    </tr>\n",
       "    <tr>\n",
       "      <th>2</th>\n",
       "      <td>207140</td>\n",
       "      <td>SpeedRunners</td>\n",
       "      <td>25</td>\n",
       "      <td>Apr 19, 2016</td>\n",
       "      <td>14.99</td>\n",
       "      <td>89% (94%/84%)</td>\n",
       "      <td>1,659,776 ±37,741</td>\n",
       "      <td>1,436,371 ±35,118</td>\n",
       "      <td>10:59 (04:24)</td>\n",
       "      <td>DoubleDutch Games</td>\n",
       "      <td>tinyBuild</td>\n",
       "      <td>False</td>\n",
       "    </tr>\n",
       "    <tr>\n",
       "      <th>3</th>\n",
       "      <td>211820</td>\n",
       "      <td>Starbound</td>\n",
       "      <td>10</td>\n",
       "      <td>Jul 22, 2016</td>\n",
       "      <td>14.99</td>\n",
       "      <td>74% (90%/81%)</td>\n",
       "      <td>3,026,333 ±50,886</td>\n",
       "      <td>2,938,052 ±50,143</td>\n",
       "      <td>55:48 (25:56)</td>\n",
       "      <td>Chucklefish</td>\n",
       "      <td>Chucklefish</td>\n",
       "      <td>False</td>\n",
       "    </tr>\n",
       "    <tr>\n",
       "      <th>4</th>\n",
       "      <td>214420</td>\n",
       "      <td>Gear Up</td>\n",
       "      <td>138</td>\n",
       "      <td>Jan 28, 2015</td>\n",
       "      <td>0.00</td>\n",
       "      <td>35% (74%)</td>\n",
       "      <td>2,504,303 ±46,316</td>\n",
       "      <td>1,769,902 ±38,968</td>\n",
       "      <td>02:43 (00:23)</td>\n",
       "      <td>Doctor Entertainment AB</td>\n",
       "      <td>Doctor Entertainment AB</td>\n",
       "      <td>False</td>\n",
       "    </tr>\n",
       "  </tbody>\n",
       "</table>\n",
       "</div>"
      ],
      "text/plain": [
       "    appid                  name  Rank  Release date  Price  \\\n",
       "0  107410                Arma 3     4  Sep 12, 2013  39.99   \n",
       "1  202090  Magicka: Wizard Wars   359  Apr 28, 2015   0.00   \n",
       "2  207140          SpeedRunners    25  Apr 19, 2016  14.99   \n",
       "3  211820             Starbound    10  Jul 22, 2016  14.99   \n",
       "4  214420               Gear Up   138  Jan 28, 2015   0.00   \n",
       "\n",
       "  Score rank(Userscore/Metascore)             Owners            Players  \\\n",
       "0                   74% (90%/74%)  3,609,169 ±55,535  3,514,807 ±54,810   \n",
       "1                   N/A (N/A/69%)  3,669,749 ±55,996  2,008,171 ±41,498   \n",
       "2                   89% (94%/84%)  1,659,776 ±37,741  1,436,371 ±35,118   \n",
       "3                   74% (90%/81%)  3,026,333 ±50,886  2,938,052 ±50,143   \n",
       "4                       35% (74%)  2,504,303 ±46,316  1,769,902 ±38,968   \n",
       "\n",
       "  Playtime(Median)             Developer(s)             Publisher(s)  \\\n",
       "0   182:14 (33:59)      Bohemia Interactive      Bohemia Interactive   \n",
       "1    03:50 (00:48)            Paradox North      Paradox Interactive   \n",
       "2    10:59 (04:24)        DoubleDutch Games                tinyBuild   \n",
       "3    55:48 (25:56)              Chucklefish              Chucklefish   \n",
       "4    02:43 (00:23)  Doctor Entertainment AB  Doctor Entertainment AB   \n",
       "\n",
       "  is early access?  \n",
       "0            False  \n",
       "1            False  \n",
       "2            False  \n",
       "3            False  \n",
       "4            False  "
      ]
     },
     "execution_count": 705,
     "metadata": {},
     "output_type": "execute_result"
    }
   ],
   "source": [
    "ex_early_access_merged.head()"
   ]
  },
  {
   "cell_type": "code",
   "execution_count": 706,
   "metadata": {},
   "outputs": [
    {
     "name": "stdout",
     "output_type": "stream",
     "text": [
      "10.1381294964\n"
     ]
    }
   ],
   "source": [
    "#average price per game \n",
    "print ex_early_access_merged['Price'].mean()"
   ]
  },
  {
   "cell_type": "code",
   "execution_count": 707,
   "metadata": {},
   "outputs": [
    {
     "data": {
      "text/plain": [
       "1043"
      ]
     },
     "execution_count": 707,
     "metadata": {},
     "output_type": "execute_result"
    }
   ],
   "source": [
    "ex_early_access_merged['Rank'].replace('',np.NaN) #replaces blank with NaN\n",
    "ex_early_access_merged['Rank'].max() #highest rank seems to be 1043"
   ]
  },
  {
   "cell_type": "code",
   "execution_count": 708,
   "metadata": {},
   "outputs": [
    {
     "data": {
      "text/plain": [
       "531.0"
      ]
     },
     "execution_count": 708,
     "metadata": {},
     "output_type": "execute_result"
    }
   ],
   "source": [
    "ex_early_access_merged['Rank'].median() #checking to make sure it gives back a number"
   ]
  },
  {
   "cell_type": "code",
   "execution_count": 709,
   "metadata": {},
   "outputs": [
    {
     "data": {
      "text/plain": [
       "64.989999999999995"
      ]
     },
     "execution_count": 709,
     "metadata": {},
     "output_type": "execute_result"
    }
   ],
   "source": [
    "# seems the most expensive game is $65, I would think there would be a game more expensive than 65 bucks.\n",
    "ex_early_access_merged['Price'].max() "
   ]
  },
  {
   "cell_type": "code",
   "execution_count": 710,
   "metadata": {},
   "outputs": [],
   "source": [
    "import matplotlib.pyplot as plt"
   ]
  },
  {
   "cell_type": "code",
   "execution_count": 711,
   "metadata": {},
   "outputs": [
    {
     "data": {
      "image/png": "[encoded data removed]",
      "text/plain": [
       "<matplotlib.figure.Figure at 0x7f995583a8d0>"
      ]
     },
     "metadata": {},
     "output_type": "display_data"
    }
   ],
   "source": [
    "# This graph shows distribution of price of games in our data set \n",
    "bins= [0,1,5,10,20,30,40,50,65]\n",
    "plt.hist(ex_early_access_merged.Price, bins=bins, color=\"y\")\n",
    "plt.xticks(bins)\n",
    "plt.show() "
   ]
  },
  {
   "cell_type": "markdown",
   "metadata": {},
   "source": [
    "BEGINNING OF ASSIGNMENT 4"
   ]
  },
  {
   "cell_type": "markdown",
   "metadata": {},
   "source": [
    "BEGINNING OF ASSIGNMENT 4"
   ]
  },
  {
   "cell_type": "markdown",
   "metadata": {},
   "source": [
    "BEGINNING OF ASSIGNMENT 4"
   ]
  },
  {
   "cell_type": "markdown",
   "metadata": {},
   "source": [
    "BEGINNING OF ASSIGNMENT 4"
   ]
  },
  {
   "cell_type": "code",
   "execution_count": 712,
   "metadata": {},
   "outputs": [
    {
     "data": {
      "text/html": [
       "<div>\n",
       "<table border=\"1\" class=\"dataframe\">\n",
       "  <thead>\n",
       "    <tr style=\"text-align: right;\">\n",
       "      <th></th>\n",
       "      <th>appid</th>\n",
       "      <th>name</th>\n",
       "      <th>Rank</th>\n",
       "      <th>Release date</th>\n",
       "      <th>Price</th>\n",
       "      <th>Score rank(Userscore/Metascore)</th>\n",
       "      <th>Owners</th>\n",
       "      <th>Players</th>\n",
       "      <th>Playtime(Median)</th>\n",
       "      <th>Developer(s)</th>\n",
       "      <th>Publisher(s)</th>\n",
       "      <th>is early access?</th>\n",
       "    </tr>\n",
       "  </thead>\n",
       "  <tbody>\n",
       "    <tr>\n",
       "      <th>0</th>\n",
       "      <td>107410</td>\n",
       "      <td>Arma 3</td>\n",
       "      <td>4</td>\n",
       "      <td>Sep 12, 2013</td>\n",
       "      <td>39.99</td>\n",
       "      <td>74% (90%/74%)</td>\n",
       "      <td>3,609,169 ±55,535</td>\n",
       "      <td>3,514,807 ±54,810</td>\n",
       "      <td>182:14 (33:59)</td>\n",
       "      <td>Bohemia Interactive</td>\n",
       "      <td>Bohemia Interactive</td>\n",
       "      <td>False</td>\n",
       "    </tr>\n",
       "    <tr>\n",
       "      <th>1</th>\n",
       "      <td>202090</td>\n",
       "      <td>Magicka: Wizard Wars</td>\n",
       "      <td>359</td>\n",
       "      <td>Apr 28, 2015</td>\n",
       "      <td>0.00</td>\n",
       "      <td>N/A (N/A/69%)</td>\n",
       "      <td>3,669,749 ±55,996</td>\n",
       "      <td>2,008,171 ±41,498</td>\n",
       "      <td>03:50 (00:48)</td>\n",
       "      <td>Paradox North</td>\n",
       "      <td>Paradox Interactive</td>\n",
       "      <td>False</td>\n",
       "    </tr>\n",
       "    <tr>\n",
       "      <th>2</th>\n",
       "      <td>207140</td>\n",
       "      <td>SpeedRunners</td>\n",
       "      <td>25</td>\n",
       "      <td>Apr 19, 2016</td>\n",
       "      <td>14.99</td>\n",
       "      <td>89% (94%/84%)</td>\n",
       "      <td>1,659,776 ±37,741</td>\n",
       "      <td>1,436,371 ±35,118</td>\n",
       "      <td>10:59 (04:24)</td>\n",
       "      <td>DoubleDutch Games</td>\n",
       "      <td>tinyBuild</td>\n",
       "      <td>False</td>\n",
       "    </tr>\n",
       "    <tr>\n",
       "      <th>3</th>\n",
       "      <td>211820</td>\n",
       "      <td>Starbound</td>\n",
       "      <td>10</td>\n",
       "      <td>Jul 22, 2016</td>\n",
       "      <td>14.99</td>\n",
       "      <td>74% (90%/81%)</td>\n",
       "      <td>3,026,333 ±50,886</td>\n",
       "      <td>2,938,052 ±50,143</td>\n",
       "      <td>55:48 (25:56)</td>\n",
       "      <td>Chucklefish</td>\n",
       "      <td>Chucklefish</td>\n",
       "      <td>False</td>\n",
       "    </tr>\n",
       "    <tr>\n",
       "      <th>4</th>\n",
       "      <td>214420</td>\n",
       "      <td>Gear Up</td>\n",
       "      <td>138</td>\n",
       "      <td>Jan 28, 2015</td>\n",
       "      <td>0.00</td>\n",
       "      <td>35% (74%)</td>\n",
       "      <td>2,504,303 ±46,316</td>\n",
       "      <td>1,769,902 ±38,968</td>\n",
       "      <td>02:43 (00:23)</td>\n",
       "      <td>Doctor Entertainment AB</td>\n",
       "      <td>Doctor Entertainment AB</td>\n",
       "      <td>False</td>\n",
       "    </tr>\n",
       "  </tbody>\n",
       "</table>\n",
       "</div>"
      ],
      "text/plain": [
       "    appid                  name  Rank  Release date  Price  \\\n",
       "0  107410                Arma 3     4  Sep 12, 2013  39.99   \n",
       "1  202090  Magicka: Wizard Wars   359  Apr 28, 2015   0.00   \n",
       "2  207140          SpeedRunners    25  Apr 19, 2016  14.99   \n",
       "3  211820             Starbound    10  Jul 22, 2016  14.99   \n",
       "4  214420               Gear Up   138  Jan 28, 2015   0.00   \n",
       "\n",
       "  Score rank(Userscore/Metascore)             Owners            Players  \\\n",
       "0                   74% (90%/74%)  3,609,169 ±55,535  3,514,807 ±54,810   \n",
       "1                   N/A (N/A/69%)  3,669,749 ±55,996  2,008,171 ±41,498   \n",
       "2                   89% (94%/84%)  1,659,776 ±37,741  1,436,371 ±35,118   \n",
       "3                   74% (90%/81%)  3,026,333 ±50,886  2,938,052 ±50,143   \n",
       "4                       35% (74%)  2,504,303 ±46,316  1,769,902 ±38,968   \n",
       "\n",
       "  Playtime(Median)             Developer(s)             Publisher(s)  \\\n",
       "0   182:14 (33:59)      Bohemia Interactive      Bohemia Interactive   \n",
       "1    03:50 (00:48)            Paradox North      Paradox Interactive   \n",
       "2    10:59 (04:24)        DoubleDutch Games                tinyBuild   \n",
       "3    55:48 (25:56)              Chucklefish              Chucklefish   \n",
       "4    02:43 (00:23)  Doctor Entertainment AB  Doctor Entertainment AB   \n",
       "\n",
       "  is early access?  \n",
       "0            False  \n",
       "1            False  \n",
       "2            False  \n",
       "3            False  \n",
       "4            False  "
      ]
     },
     "execution_count": 712,
     "metadata": {},
     "output_type": "execute_result"
    }
   ],
   "source": [
    "ex_early_access_merged.head()"
   ]
  },
  {
   "cell_type": "code",
   "execution_count": 713,
   "metadata": {},
   "outputs": [
    {
     "data": {
      "text/html": [
       "<div>\n",
       "<table border=\"1\" class=\"dataframe\">\n",
       "  <thead>\n",
       "    <tr style=\"text-align: right;\">\n",
       "      <th></th>\n",
       "      <th>Release date</th>\n",
       "      <th>Score rank(Userscore/Metascore)</th>\n",
       "    </tr>\n",
       "  </thead>\n",
       "  <tbody>\n",
       "    <tr>\n",
       "      <th>0</th>\n",
       "      <td>Sep 12, 2013</td>\n",
       "      <td>74% (90%/74%)</td>\n",
       "    </tr>\n",
       "    <tr>\n",
       "      <th>1</th>\n",
       "      <td>Apr 28, 2015</td>\n",
       "      <td>N/A (N/A/69%)</td>\n",
       "    </tr>\n",
       "    <tr>\n",
       "      <th>2</th>\n",
       "      <td>Apr 19, 2016</td>\n",
       "      <td>89% (94%/84%)</td>\n",
       "    </tr>\n",
       "    <tr>\n",
       "      <th>3</th>\n",
       "      <td>Jul 22, 2016</td>\n",
       "      <td>74% (90%/81%)</td>\n",
       "    </tr>\n",
       "    <tr>\n",
       "      <th>4</th>\n",
       "      <td>Jan 28, 2015</td>\n",
       "      <td>35% (74%)</td>\n",
       "    </tr>\n",
       "  </tbody>\n",
       "</table>\n",
       "</div>"
      ],
      "text/plain": [
       "   Release date Score rank(Userscore/Metascore)\n",
       "0  Sep 12, 2013                   74% (90%/74%)\n",
       "1  Apr 28, 2015                   N/A (N/A/69%)\n",
       "2  Apr 19, 2016                   89% (94%/84%)\n",
       "3  Jul 22, 2016                   74% (90%/81%)\n",
       "4  Jan 28, 2015                       35% (74%)"
      ]
     },
     "execution_count": 713,
     "metadata": {},
     "output_type": "execute_result"
    }
   ],
   "source": [
    "dff1 = ex_early_access_merged[['Release date','Score rank(Userscore/Metascore)']]\n",
    "dff1.head()"
   ]
  },
  {
   "cell_type": "code",
   "execution_count": 714,
   "metadata": {},
   "outputs": [
    {
     "name": "stderr",
     "output_type": "stream",
     "text": [
      "/usr/local/lib/python2.7/dist-packages/ipykernel_launcher.py:1: SettingWithCopyWarning: \n",
      "A value is trying to be set on a copy of a slice from a DataFrame.\n",
      "Try using .loc[row_indexer,col_indexer] = value instead\n",
      "\n",
      "See the caveats in the documentation: http://pandas.pydata.org/pandas-docs/stable/indexing.html#indexing-view-versus-copy\n",
      "  \"\"\"Entry point for launching an IPython kernel.\n"
     ]
    },
    {
     "data": {
      "text/html": [
       "<div>\n",
       "<table border=\"1\" class=\"dataframe\">\n",
       "  <thead>\n",
       "    <tr style=\"text-align: right;\">\n",
       "      <th></th>\n",
       "      <th>Release date</th>\n",
       "      <th>Score rank(Userscore/Metascore)</th>\n",
       "      <th>year</th>\n",
       "    </tr>\n",
       "  </thead>\n",
       "  <tbody>\n",
       "    <tr>\n",
       "      <th>0</th>\n",
       "      <td>Sep 12, 2013</td>\n",
       "      <td>74% (90%/74%)</td>\n",
       "      <td>2013</td>\n",
       "    </tr>\n",
       "    <tr>\n",
       "      <th>1</th>\n",
       "      <td>Apr 28, 2015</td>\n",
       "      <td>N/A (N/A/69%)</td>\n",
       "      <td>2015</td>\n",
       "    </tr>\n",
       "    <tr>\n",
       "      <th>2</th>\n",
       "      <td>Apr 19, 2016</td>\n",
       "      <td>89% (94%/84%)</td>\n",
       "      <td>2016</td>\n",
       "    </tr>\n",
       "    <tr>\n",
       "      <th>3</th>\n",
       "      <td>Jul 22, 2016</td>\n",
       "      <td>74% (90%/81%)</td>\n",
       "      <td>2016</td>\n",
       "    </tr>\n",
       "    <tr>\n",
       "      <th>4</th>\n",
       "      <td>Jan 28, 2015</td>\n",
       "      <td>35% (74%)</td>\n",
       "      <td>2015</td>\n",
       "    </tr>\n",
       "  </tbody>\n",
       "</table>\n",
       "</div>"
      ],
      "text/plain": [
       "   Release date Score rank(Userscore/Metascore)   year\n",
       "0  Sep 12, 2013                   74% (90%/74%)   2013\n",
       "1  Apr 28, 2015                   N/A (N/A/69%)   2015\n",
       "2  Apr 19, 2016                   89% (94%/84%)   2016\n",
       "3  Jul 22, 2016                   74% (90%/81%)   2016\n",
       "4  Jan 28, 2015                       35% (74%)   2015"
      ]
     },
     "execution_count": 714,
     "metadata": {},
     "output_type": "execute_result"
    }
   ],
   "source": [
    "dff1['year'] = dff1['Release date'].str.split(',').str[1]\n",
    "dff1.head()"
   ]
  },
  {
   "cell_type": "code",
   "execution_count": 715,
   "metadata": {},
   "outputs": [
    {
     "data": {
      "text/html": [
       "<div>\n",
       "<table border=\"1\" class=\"dataframe\">\n",
       "  <thead>\n",
       "    <tr style=\"text-align: right;\">\n",
       "      <th></th>\n",
       "      <th>Score rank(Userscore/Metascore)</th>\n",
       "      <th>year</th>\n",
       "    </tr>\n",
       "  </thead>\n",
       "  <tbody>\n",
       "    <tr>\n",
       "      <th>0</th>\n",
       "      <td>74% (90%/74%)</td>\n",
       "      <td>2013</td>\n",
       "    </tr>\n",
       "    <tr>\n",
       "      <th>1</th>\n",
       "      <td>N/A (N/A/69%)</td>\n",
       "      <td>2015</td>\n",
       "    </tr>\n",
       "    <tr>\n",
       "      <th>2</th>\n",
       "      <td>89% (94%/84%)</td>\n",
       "      <td>2016</td>\n",
       "    </tr>\n",
       "    <tr>\n",
       "      <th>3</th>\n",
       "      <td>74% (90%/81%)</td>\n",
       "      <td>2016</td>\n",
       "    </tr>\n",
       "    <tr>\n",
       "      <th>4</th>\n",
       "      <td>35% (74%)</td>\n",
       "      <td>2015</td>\n",
       "    </tr>\n",
       "  </tbody>\n",
       "</table>\n",
       "</div>"
      ],
      "text/plain": [
       "  Score rank(Userscore/Metascore)   year\n",
       "0                   74% (90%/74%)   2013\n",
       "1                   N/A (N/A/69%)   2015\n",
       "2                   89% (94%/84%)   2016\n",
       "3                   74% (90%/81%)   2016\n",
       "4                       35% (74%)   2015"
      ]
     },
     "execution_count": 715,
     "metadata": {},
     "output_type": "execute_result"
    }
   ],
   "source": [
    "dff2 = dff1[['Score rank(Userscore/Metascore)', 'year']]\n",
    "dff2.head()"
   ]
  },
  {
   "cell_type": "code",
   "execution_count": 716,
   "metadata": {},
   "outputs": [
    {
     "name": "stderr",
     "output_type": "stream",
     "text": [
      "/usr/local/lib/python2.7/dist-packages/ipykernel_launcher.py:2: SettingWithCopyWarning: \n",
      "A value is trying to be set on a copy of a slice from a DataFrame.\n",
      "Try using .loc[row_indexer,col_indexer] = value instead\n",
      "\n",
      "See the caveats in the documentation: http://pandas.pydata.org/pandas-docs/stable/indexing.html#indexing-view-versus-copy\n",
      "  \n"
     ]
    },
    {
     "data": {
      "text/html": [
       "<div>\n",
       "<table border=\"1\" class=\"dataframe\">\n",
       "  <thead>\n",
       "    <tr style=\"text-align: right;\">\n",
       "      <th></th>\n",
       "      <th>Score rank(Userscore/Metascore)</th>\n",
       "      <th>year</th>\n",
       "    </tr>\n",
       "  </thead>\n",
       "  <tbody>\n",
       "    <tr>\n",
       "      <th>0</th>\n",
       "      <td>74% (90%/74%)</td>\n",
       "      <td>2013</td>\n",
       "    </tr>\n",
       "    <tr>\n",
       "      <th>1</th>\n",
       "      <td>N/A (N/A/69%)</td>\n",
       "      <td>2015</td>\n",
       "    </tr>\n",
       "    <tr>\n",
       "      <th>2</th>\n",
       "      <td>89% (94%/84%)</td>\n",
       "      <td>2016</td>\n",
       "    </tr>\n",
       "    <tr>\n",
       "      <th>3</th>\n",
       "      <td>74% (90%/81%)</td>\n",
       "      <td>2016</td>\n",
       "    </tr>\n",
       "    <tr>\n",
       "      <th>4</th>\n",
       "      <td>35% (74%)</td>\n",
       "      <td>2015</td>\n",
       "    </tr>\n",
       "  </tbody>\n",
       "</table>\n",
       "</div>"
      ],
      "text/plain": [
       "  Score rank(Userscore/Metascore)  year\n",
       "0                   74% (90%/74%)  2013\n",
       "1                   N/A (N/A/69%)  2015\n",
       "2                   89% (94%/84%)  2016\n",
       "3                   74% (90%/81%)  2016\n",
       "4                       35% (74%)  2015"
      ]
     },
     "execution_count": 716,
     "metadata": {},
     "output_type": "execute_result"
    }
   ],
   "source": [
    "#Converting all values in year column into numeric values \n",
    "dff2['year'] = pd.to_numeric(dff2['year'], errors='coerce')\n",
    "dff2.head()"
   ]
  },
  {
   "cell_type": "code",
   "execution_count": 717,
   "metadata": {},
   "outputs": [
    {
     "data": {
      "text/html": [
       "<div>\n",
       "<table border=\"1\" class=\"dataframe\">\n",
       "  <thead>\n",
       "    <tr style=\"text-align: right;\">\n",
       "      <th></th>\n",
       "      <th>Score (%)</th>\n",
       "      <th>year</th>\n",
       "    </tr>\n",
       "  </thead>\n",
       "  <tbody>\n",
       "    <tr>\n",
       "      <th>0</th>\n",
       "      <td>74%</td>\n",
       "      <td>2013</td>\n",
       "    </tr>\n",
       "    <tr>\n",
       "      <th>1</th>\n",
       "      <td>N/A</td>\n",
       "      <td>2015</td>\n",
       "    </tr>\n",
       "    <tr>\n",
       "      <th>2</th>\n",
       "      <td>89%</td>\n",
       "      <td>2016</td>\n",
       "    </tr>\n",
       "    <tr>\n",
       "      <th>3</th>\n",
       "      <td>74%</td>\n",
       "      <td>2016</td>\n",
       "    </tr>\n",
       "    <tr>\n",
       "      <th>4</th>\n",
       "      <td>35%</td>\n",
       "      <td>2015</td>\n",
       "    </tr>\n",
       "  </tbody>\n",
       "</table>\n",
       "</div>"
      ],
      "text/plain": [
       "  Score (%)  year\n",
       "0      74%   2013\n",
       "1      N/A   2015\n",
       "2      89%   2016\n",
       "3      74%   2016\n",
       "4      35%   2015"
      ]
     },
     "execution_count": 717,
     "metadata": {},
     "output_type": "execute_result"
    }
   ],
   "source": [
    "dff2['Score (%)'] = dff2['Score rank(Userscore/Metascore)'].str.split('%').str[0]\n",
    "dff2['Score (%)'] = dff2['Score rank(Userscore/Metascore)'].str.split('(').str[0]\n",
    "dff3 = dff2[['Score (%)','year']]\n",
    "dff3.head()"
   ]
  },
  {
   "cell_type": "markdown",
   "metadata": {},
   "source": [
    "Removing rows that have N/A in them, as well as making values numerical values in order to use them in graphs later on "
   ]
  },
  {
   "cell_type": "code",
   "execution_count": 718,
   "metadata": {},
   "outputs": [
    {
     "name": "stderr",
     "output_type": "stream",
     "text": [
      "/usr/local/lib/python2.7/dist-packages/ipykernel_launcher.py:1: SettingWithCopyWarning: \n",
      "A value is trying to be set on a copy of a slice from a DataFrame.\n",
      "Try using .loc[row_indexer,col_indexer] = value instead\n",
      "\n",
      "See the caveats in the documentation: http://pandas.pydata.org/pandas-docs/stable/indexing.html#indexing-view-versus-copy\n",
      "  \"\"\"Entry point for launching an IPython kernel.\n",
      "/usr/local/lib/python2.7/dist-packages/ipykernel_launcher.py:2: SettingWithCopyWarning: \n",
      "A value is trying to be set on a copy of a slice from a DataFrame.\n",
      "Try using .loc[row_indexer,col_indexer] = value instead\n",
      "\n",
      "See the caveats in the documentation: http://pandas.pydata.org/pandas-docs/stable/indexing.html#indexing-view-versus-copy\n",
      "  \n",
      "/usr/local/lib/python2.7/dist-packages/ipykernel_launcher.py:3: SettingWithCopyWarning: \n",
      "A value is trying to be set on a copy of a slice from a DataFrame.\n",
      "Try using .loc[row_indexer,col_indexer] = value instead\n",
      "\n",
      "See the caveats in the documentation: http://pandas.pydata.org/pandas-docs/stable/indexing.html#indexing-view-versus-copy\n",
      "  This is separate from the ipykernel package so we can avoid doing imports until\n"
     ]
    },
    {
     "data": {
      "text/html": [
       "<div>\n",
       "<table border=\"1\" class=\"dataframe\">\n",
       "  <thead>\n",
       "    <tr style=\"text-align: right;\">\n",
       "      <th></th>\n",
       "      <th>Score (%)</th>\n",
       "      <th>year</th>\n",
       "    </tr>\n",
       "  </thead>\n",
       "  <tbody>\n",
       "    <tr>\n",
       "      <th>0</th>\n",
       "      <td>74</td>\n",
       "      <td>2013</td>\n",
       "    </tr>\n",
       "    <tr>\n",
       "      <th>2</th>\n",
       "      <td>89</td>\n",
       "      <td>2016</td>\n",
       "    </tr>\n",
       "    <tr>\n",
       "      <th>3</th>\n",
       "      <td>74</td>\n",
       "      <td>2016</td>\n",
       "    </tr>\n",
       "    <tr>\n",
       "      <th>4</th>\n",
       "      <td>35</td>\n",
       "      <td>2015</td>\n",
       "    </tr>\n",
       "    <tr>\n",
       "      <th>5</th>\n",
       "      <td>82</td>\n",
       "      <td>2016</td>\n",
       "    </tr>\n",
       "  </tbody>\n",
       "</table>\n",
       "</div>"
      ],
      "text/plain": [
       "   Score (%)  year\n",
       "0         74  2013\n",
       "2         89  2016\n",
       "3         74  2016\n",
       "4         35  2015\n",
       "5         82  2016"
      ]
     },
     "execution_count": 718,
     "metadata": {},
     "output_type": "execute_result"
    }
   ],
   "source": [
    "dff3['Score (%)'] = dff3['Score (%)'].str.replace('N/A', '0')\n",
    "dff3['Score (%)'] = dff3['Score (%)'].str.replace('%', '')\n",
    "dff3['Score (%)'] = pd.to_numeric(dff3['Score (%)'], errors='coerce')\n",
    "dff3[(dff3 != 0).all(1)].head()"
   ]
  },
  {
   "cell_type": "markdown",
   "metadata": {},
   "source": [
    "Making sure I am working with numerical types"
   ]
  },
  {
   "cell_type": "code",
   "execution_count": 719,
   "metadata": {},
   "outputs": [
    {
     "data": {
      "text/plain": [
       "'i'"
      ]
     },
     "execution_count": 719,
     "metadata": {},
     "output_type": "execute_result"
    }
   ],
   "source": [
    "dff3['Score (%)'].dtype.kind"
   ]
  },
  {
   "cell_type": "code",
   "execution_count": 720,
   "metadata": {},
   "outputs": [
    {
     "data": {
      "text/plain": [
       "25.244604316546763"
      ]
     },
     "execution_count": 720,
     "metadata": {},
     "output_type": "execute_result"
    }
   ],
   "source": [
    "dff3['Score (%)'].mean()"
   ]
  },
  {
   "cell_type": "code",
   "execution_count": 721,
   "metadata": {},
   "outputs": [
    {
     "data": {
      "text/html": [
       "<div>\n",
       "<table border=\"1\" class=\"dataframe\">\n",
       "  <thead>\n",
       "    <tr style=\"text-align: right;\">\n",
       "      <th></th>\n",
       "      <th>year</th>\n",
       "      <th>Score (%)</th>\n",
       "    </tr>\n",
       "  </thead>\n",
       "  <tbody>\n",
       "    <tr>\n",
       "      <th>0</th>\n",
       "      <td>2013</td>\n",
       "      <td>74.000000</td>\n",
       "    </tr>\n",
       "    <tr>\n",
       "      <th>1</th>\n",
       "      <td>2014</td>\n",
       "      <td>27.083333</td>\n",
       "    </tr>\n",
       "    <tr>\n",
       "      <th>2</th>\n",
       "      <td>2015</td>\n",
       "      <td>30.837719</td>\n",
       "    </tr>\n",
       "    <tr>\n",
       "      <th>3</th>\n",
       "      <td>2016</td>\n",
       "      <td>23.506143</td>\n",
       "    </tr>\n",
       "    <tr>\n",
       "      <th>4</th>\n",
       "      <td>2017</td>\n",
       "      <td>23.200617</td>\n",
       "    </tr>\n",
       "  </tbody>\n",
       "</table>\n",
       "</div>"
      ],
      "text/plain": [
       "   year  Score (%)\n",
       "0  2013  74.000000\n",
       "1  2014  27.083333\n",
       "2  2015  30.837719\n",
       "3  2016  23.506143\n",
       "4  2017  23.200617"
      ]
     },
     "execution_count": 721,
     "metadata": {},
     "output_type": "execute_result"
    }
   ],
   "source": [
    "dfmean = dff3.groupby(['year'],as_index=False).mean() \n",
    "dfmean"
   ]
  },
  {
   "cell_type": "code",
   "execution_count": 722,
   "metadata": {},
   "outputs": [
    {
     "data": {
      "text/html": [
       "<div>\n",
       "<table border=\"1\" class=\"dataframe\">\n",
       "  <thead>\n",
       "    <tr style=\"text-align: right;\">\n",
       "      <th></th>\n",
       "      <th>year</th>\n",
       "      <th>Score (%)</th>\n",
       "    </tr>\n",
       "  </thead>\n",
       "  <tbody>\n",
       "    <tr>\n",
       "      <th>0</th>\n",
       "      <td>2013</td>\n",
       "      <td>74.0</td>\n",
       "    </tr>\n",
       "    <tr>\n",
       "      <th>1</th>\n",
       "      <td>2014</td>\n",
       "      <td>16.5</td>\n",
       "    </tr>\n",
       "    <tr>\n",
       "      <th>2</th>\n",
       "      <td>2015</td>\n",
       "      <td>21.0</td>\n",
       "    </tr>\n",
       "    <tr>\n",
       "      <th>3</th>\n",
       "      <td>2016</td>\n",
       "      <td>9.0</td>\n",
       "    </tr>\n",
       "    <tr>\n",
       "      <th>4</th>\n",
       "      <td>2017</td>\n",
       "      <td>8.0</td>\n",
       "    </tr>\n",
       "  </tbody>\n",
       "</table>\n",
       "</div>"
      ],
      "text/plain": [
       "   year  Score (%)\n",
       "0  2013       74.0\n",
       "1  2014       16.5\n",
       "2  2015       21.0\n",
       "3  2016        9.0\n",
       "4  2017        8.0"
      ]
     },
     "execution_count": 722,
     "metadata": {},
     "output_type": "execute_result"
    }
   ],
   "source": [
    "dfmed = dff3.groupby(['year'],as_index=False).median() \n",
    "dfmed"
   ]
  },
  {
   "cell_type": "markdown",
   "metadata": {},
   "source": [
    "..."
   ]
  },
  {
   "cell_type": "markdown",
   "metadata": {},
   "source": [
    "#25th percentile by year"
   ]
  },
  {
   "cell_type": "code",
   "execution_count": 723,
   "metadata": {},
   "outputs": [
    {
     "data": {
      "text/html": [
       "<div>\n",
       "<table border=\"1\" class=\"dataframe\">\n",
       "  <thead>\n",
       "    <tr style=\"text-align: right;\">\n",
       "      <th></th>\n",
       "      <th>Score (%)</th>\n",
       "      <th>year</th>\n",
       "    </tr>\n",
       "  </thead>\n",
       "  <tbody>\n",
       "    <tr>\n",
       "      <th>0</th>\n",
       "      <td>74.00</td>\n",
       "      <td>2013</td>\n",
       "    </tr>\n",
       "    <tr>\n",
       "      <th>1</th>\n",
       "      <td>0.75</td>\n",
       "      <td>2014</td>\n",
       "    </tr>\n",
       "    <tr>\n",
       "      <th>2</th>\n",
       "      <td>0.00</td>\n",
       "      <td>2015</td>\n",
       "    </tr>\n",
       "    <tr>\n",
       "      <th>3</th>\n",
       "      <td>0.00</td>\n",
       "      <td>2016</td>\n",
       "    </tr>\n",
       "    <tr>\n",
       "      <th>4</th>\n",
       "      <td>0.00</td>\n",
       "      <td>2017</td>\n",
       "    </tr>\n",
       "  </tbody>\n",
       "</table>\n",
       "</div>"
      ],
      "text/plain": [
       "   Score (%)  year\n",
       "0      74.00  2013\n",
       "1       0.75  2014\n",
       "2       0.00  2015\n",
       "3       0.00  2016\n",
       "4       0.00  2017"
      ]
     },
     "execution_count": 723,
     "metadata": {},
     "output_type": "execute_result"
    }
   ],
   "source": [
    "df25 = dff3.groupby(['year'],as_index=False).quantile(.25) \n",
    "df25"
   ]
  },
  {
   "cell_type": "markdown",
   "metadata": {},
   "source": [
    "..."
   ]
  },
  {
   "cell_type": "markdown",
   "metadata": {},
   "source": [
    "#50th percentile by year AKA should be same as median by year "
   ]
  },
  {
   "cell_type": "code",
   "execution_count": 724,
   "metadata": {},
   "outputs": [
    {
     "data": {
      "text/html": [
       "<div>\n",
       "<table border=\"1\" class=\"dataframe\">\n",
       "  <thead>\n",
       "    <tr style=\"text-align: right;\">\n",
       "      <th></th>\n",
       "      <th>Score (%)</th>\n",
       "      <th>year</th>\n",
       "    </tr>\n",
       "  </thead>\n",
       "  <tbody>\n",
       "    <tr>\n",
       "      <th>0</th>\n",
       "      <td>74.0</td>\n",
       "      <td>2013</td>\n",
       "    </tr>\n",
       "    <tr>\n",
       "      <th>1</th>\n",
       "      <td>16.5</td>\n",
       "      <td>2014</td>\n",
       "    </tr>\n",
       "    <tr>\n",
       "      <th>2</th>\n",
       "      <td>21.0</td>\n",
       "      <td>2015</td>\n",
       "    </tr>\n",
       "    <tr>\n",
       "      <th>3</th>\n",
       "      <td>9.0</td>\n",
       "      <td>2016</td>\n",
       "    </tr>\n",
       "    <tr>\n",
       "      <th>4</th>\n",
       "      <td>8.0</td>\n",
       "      <td>2017</td>\n",
       "    </tr>\n",
       "  </tbody>\n",
       "</table>\n",
       "</div>"
      ],
      "text/plain": [
       "   Score (%)  year\n",
       "0       74.0  2013\n",
       "1       16.5  2014\n",
       "2       21.0  2015\n",
       "3        9.0  2016\n",
       "4        8.0  2017"
      ]
     },
     "execution_count": 724,
     "metadata": {},
     "output_type": "execute_result"
    }
   ],
   "source": [
    "df50 = dff3.groupby(['year'],as_index=False).quantile(.5) \n",
    "df50"
   ]
  },
  {
   "cell_type": "markdown",
   "metadata": {},
   "source": [
    "#75th percentile by year"
   ]
  },
  {
   "cell_type": "code",
   "execution_count": 725,
   "metadata": {},
   "outputs": [
    {
     "data": {
      "text/html": [
       "<div>\n",
       "<table border=\"1\" class=\"dataframe\">\n",
       "  <thead>\n",
       "    <tr style=\"text-align: right;\">\n",
       "      <th></th>\n",
       "      <th>Score (%)</th>\n",
       "      <th>year</th>\n",
       "    </tr>\n",
       "  </thead>\n",
       "  <tbody>\n",
       "    <tr>\n",
       "      <th>0</th>\n",
       "      <td>74.00</td>\n",
       "      <td>2013</td>\n",
       "    </tr>\n",
       "    <tr>\n",
       "      <th>1</th>\n",
       "      <td>49.25</td>\n",
       "      <td>2014</td>\n",
       "    </tr>\n",
       "    <tr>\n",
       "      <th>2</th>\n",
       "      <td>57.00</td>\n",
       "      <td>2015</td>\n",
       "    </tr>\n",
       "    <tr>\n",
       "      <th>3</th>\n",
       "      <td>43.00</td>\n",
       "      <td>2016</td>\n",
       "    </tr>\n",
       "    <tr>\n",
       "      <th>4</th>\n",
       "      <td>43.50</td>\n",
       "      <td>2017</td>\n",
       "    </tr>\n",
       "  </tbody>\n",
       "</table>\n",
       "</div>"
      ],
      "text/plain": [
       "   Score (%)  year\n",
       "0      74.00  2013\n",
       "1      49.25  2014\n",
       "2      57.00  2015\n",
       "3      43.00  2016\n",
       "4      43.50  2017"
      ]
     },
     "execution_count": 725,
     "metadata": {},
     "output_type": "execute_result"
    }
   ],
   "source": [
    "df75 = dff3.groupby(['year'],as_index=False).quantile(.75) \n",
    "df75"
   ]
  },
  {
   "cell_type": "markdown",
   "metadata": {},
   "source": [
    "The divergence between mean and median by year"
   ]
  },
  {
   "cell_type": "code",
   "execution_count": 726,
   "metadata": {},
   "outputs": [
    {
     "data": {
      "text/html": [
       "<div>\n",
       "<table border=\"1\" class=\"dataframe\">\n",
       "  <thead>\n",
       "    <tr style=\"text-align: right;\">\n",
       "      <th></th>\n",
       "      <th>year</th>\n",
       "      <th>Score (%)</th>\n",
       "    </tr>\n",
       "  </thead>\n",
       "  <tbody>\n",
       "    <tr>\n",
       "      <th>0</th>\n",
       "      <td>2013</td>\n",
       "      <td>0.000000</td>\n",
       "    </tr>\n",
       "    <tr>\n",
       "      <th>1</th>\n",
       "      <td>2014</td>\n",
       "      <td>10.583333</td>\n",
       "    </tr>\n",
       "    <tr>\n",
       "      <th>2</th>\n",
       "      <td>2015</td>\n",
       "      <td>9.837719</td>\n",
       "    </tr>\n",
       "    <tr>\n",
       "      <th>3</th>\n",
       "      <td>2016</td>\n",
       "      <td>14.506143</td>\n",
       "    </tr>\n",
       "    <tr>\n",
       "      <th>4</th>\n",
       "      <td>2017</td>\n",
       "      <td>15.200617</td>\n",
       "    </tr>\n",
       "  </tbody>\n",
       "</table>\n",
       "</div>"
      ],
      "text/plain": [
       "   year  Score (%)\n",
       "0  2013   0.000000\n",
       "1  2014  10.583333\n",
       "2  2015   9.837719\n",
       "3  2016  14.506143\n",
       "4  2017  15.200617"
      ]
     },
     "execution_count": 726,
     "metadata": {},
     "output_type": "execute_result"
    }
   ],
   "source": [
    "dfdiv = dfmean - dfmed\n",
    "dfdiv['year']=dfmean['year']\n",
    "dfdiv"
   ]
  },
  {
   "cell_type": "code",
   "execution_count": null,
   "metadata": {},
   "outputs": [],
   "source": []
  },
  {
   "cell_type": "code",
   "execution_count": 727,
   "metadata": {},
   "outputs": [
    {
     "data": {
      "text/html": [
       "<div>\n",
       "<table border=\"1\" class=\"dataframe\">\n",
       "  <thead>\n",
       "    <tr style=\"text-align: right;\">\n",
       "      <th></th>\n",
       "      <th>year</th>\n",
       "      <th>mean</th>\n",
       "      <th>median</th>\n",
       "      <th>divergence</th>\n",
       "    </tr>\n",
       "  </thead>\n",
       "  <tbody>\n",
       "    <tr>\n",
       "      <th>0</th>\n",
       "      <td>2013</td>\n",
       "      <td>74.000000</td>\n",
       "      <td>74.0</td>\n",
       "      <td>0.000000</td>\n",
       "    </tr>\n",
       "    <tr>\n",
       "      <th>1</th>\n",
       "      <td>2014</td>\n",
       "      <td>27.083333</td>\n",
       "      <td>16.5</td>\n",
       "      <td>10.583333</td>\n",
       "    </tr>\n",
       "    <tr>\n",
       "      <th>2</th>\n",
       "      <td>2015</td>\n",
       "      <td>30.837719</td>\n",
       "      <td>21.0</td>\n",
       "      <td>9.837719</td>\n",
       "    </tr>\n",
       "    <tr>\n",
       "      <th>3</th>\n",
       "      <td>2016</td>\n",
       "      <td>23.506143</td>\n",
       "      <td>9.0</td>\n",
       "      <td>14.506143</td>\n",
       "    </tr>\n",
       "    <tr>\n",
       "      <th>4</th>\n",
       "      <td>2017</td>\n",
       "      <td>23.200617</td>\n",
       "      <td>8.0</td>\n",
       "      <td>15.200617</td>\n",
       "    </tr>\n",
       "  </tbody>\n",
       "</table>\n",
       "</div>"
      ],
      "text/plain": [
       "   year       mean  median  divergence\n",
       "0  2013  74.000000    74.0    0.000000\n",
       "1  2014  27.083333    16.5   10.583333\n",
       "2  2015  30.837719    21.0    9.837719\n",
       "3  2016  23.506143     9.0   14.506143\n",
       "4  2017  23.200617     8.0   15.200617"
      ]
     },
     "execution_count": 727,
     "metadata": {},
     "output_type": "execute_result"
    }
   ],
   "source": [
    "dfdiv['mean']=dfmean['Score (%)']\n",
    "dfdiv['median']=dfmed['Score (%)']\n",
    "dfdiv['divergence']=dfdiv['Score (%)']\n",
    "dfk = dfdiv[['year', 'mean', 'median', 'divergence']]\n",
    "dfk "
   ]
  },
  {
   "cell_type": "code",
   "execution_count": 728,
   "metadata": {},
   "outputs": [
    {
     "data": {
      "image/png": "[encoded data removed]",
      "text/plain": [
       "<matplotlib.figure.Figure at 0x7f995622e350>"
      ]
     },
     "metadata": {},
     "output_type": "display_data"
    }
   ],
   "source": [
    "k=dfk[['mean','median']].plot()\n",
    "k.set_title(\"mean vs median over year\")\n",
    "k.set_xlabel('Year')\n",
    "k.set_ylabel(\"Score (%)\")\n",
    "plt.show()"
   ]
  },
  {
   "cell_type": "code",
   "execution_count": null,
   "metadata": {},
   "outputs": [],
   "source": []
  },
  {
   "cell_type": "code",
   "execution_count": null,
   "metadata": {},
   "outputs": [],
   "source": []
  },
  {
   "cell_type": "code",
   "execution_count": null,
   "metadata": {},
   "outputs": [],
   "source": []
  },
  {
   "cell_type": "code",
   "execution_count": null,
   "metadata": {},
   "outputs": [],
   "source": []
  }
 ],
 "metadata": {
  "kernelspec": {
   "display_name": "Python 2",
   "language": "python",
   "name": "python2"
  },
  "language_info": {
   "codemirror_mode": {
    "name": "ipython",
    "version": 2
   },
   "file_extension": ".py",
   "mimetype": "text/x-python",
   "name": "python",
   "nbconvert_exporter": "python",
   "pygments_lexer": "ipython2",
   "version": "2.7.12"
  }
 },
 "nbformat": 4,
 "nbformat_minor": 1
}
