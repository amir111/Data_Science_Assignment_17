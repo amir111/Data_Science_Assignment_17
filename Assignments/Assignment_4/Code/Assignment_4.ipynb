{
 "cells": [
  {
   "cell_type": "markdown",
   "metadata": {},
   "source": [
    "## Statistics Assignment\n",
    "\n",
    "All of the following are based on data from your project. Each student has to perform analysis on their own no collaboration between team members. Here are the datasets to be analyzed by team datasets:\n",
    "\n",
    "***\n",
    "### ***For Part 1 and 2***\n",
    "\n",
    "##### Library-Computer-Usage-Analysis\n",
    "* Computer Utilization Data by Date-Time\n",
    "\n",
    "##### Volag\n",
    "* Flight Delay Data by Date-Time\n",
    "\n",
    "##### Slipper-Streets\n",
    "* Crash Data by Date-Time\n",
    "\n",
    "##### Corpus\n",
    "* Reviews of Electronic product (laptop) by Date-Time\n",
    "\n",
    "##### SteamConnect\n",
    "* Early Access Score by Release Date-Time\n",
    "\n",
    "##### Toxic-Crusaders\n",
    "* Chemical Industry Release (pick a particular industry) by Date-Time\n",
    "\n",
    "##### Uni-X\n",
    "* Repayment Rate for Female gender by Date-Time\n",
    "\n",
    "##### WRF\n",
    "* Migration count by Date-Time\n",
    "\n",
    "\n",
    "### Part 1\n",
    "\n",
    "* **Conduct Decriptive Analytics (Mean, Median, Quartile) calculation by each division of Date-Time (most probably year or 6 month duration, if you have shorter use 1 month)**\n",
    "* **Calculate divergence of mean and median in your data**\n",
    "* **Visualize the data and draw inferences**\n",
    "\n",
    "### Part 2\n",
    "* **Conduct Probablity distibution analysis based on the data. Analyze your data based on the type of distribution it best fits (for PDF and CDF)**\n",
    "* **Conduct Method of Moments analysis on your data to suggest the best fit distribution. Visualize the results**\n",
    "\n",
    "***\n",
    "***\n",
    "\n",
    "### ***For Part 3***\n",
    "* Compare with the variable with other variables in your project\n",
    "\n",
    "### Part 3\n",
    "* **Formulate a null hypothesis and evaluate it, perform correlation measures, and construct a linear regression model**\n",
    "\n",
    "***"
   ]
  },
  {
   "cell_type": "code",
   "execution_count": null,
   "metadata": {
    "collapsed": true
   },
   "outputs": [],
   "source": []
  }
 ],
 "metadata": {
  "kernelspec": {
   "display_name": "Python 2",
   "language": "python",
   "name": "python2"
  },
  "language_info": {
   "codemirror_mode": {
    "name": "ipython",
    "version": 2
   },
   "file_extension": ".py",
   "mimetype": "text/x-python",
   "name": "python",
   "nbconvert_exporter": "python",
   "pygments_lexer": "ipython2",
   "version": "2.7.10"
  }
 },
 "nbformat": 4,
 "nbformat_minor": 2
}
