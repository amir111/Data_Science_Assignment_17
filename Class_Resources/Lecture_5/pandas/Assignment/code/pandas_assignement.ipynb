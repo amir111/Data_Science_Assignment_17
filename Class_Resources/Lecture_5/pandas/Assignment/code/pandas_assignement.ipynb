{
 "cells": [
  {
   "cell_type": "markdown",
   "metadata": {},
   "source": [
    "### Pandas Assignment\n",
    "\n",
    "In this assignment we are going to use pandas to figure out - What's the best **date-night movie**?\n",
    "\n",
    "This assignment is going to use\n",
    "- Joining\n",
    "- Groupby\n",
    "- Sorting\n",
    "\n",
    "Hint! Find the highly rated movies which appeals to both genders 'M' and 'F'\n"
   ]
  },
  {
   "cell_type": "code",
   "execution_count": null,
   "metadata": {
    "collapsed": false
   },
   "outputs": [],
   "source": [
    "import os\n",
    "import pandas as pd"
   ]
  },
  {
   "cell_type": "markdown",
   "metadata": {},
   "source": [
    "### Read in the movie data: `pd.read_table`"
   ]
  },
  {
   "cell_type": "code",
   "execution_count": null,
   "metadata": {
    "collapsed": false
   },
   "outputs": [],
   "source": [
    "def get_movie_data():\n",
    "    \n",
    "    unames = ['user_id','gender','age','occupation','zip']\n",
    "    users = pd.read_table(os.path.join('../data','users.dat'), \n",
    "                          sep='::', header=None, names=unames)\n",
    "    \n",
    "    rnames = ['user_id', 'movie_id', 'rating', 'timestamp']\n",
    "    ratings = pd.read_table(os.path.join('../data', 'ratings.dat'), \n",
    "                            sep='::', header=None, names=rnames)\n",
    "    \n",
    "    mnames = ['movie_id', 'title','genres']\n",
    "    movies = pd.read_table(os.path.join('../data', 'movies.dat'), \n",
    "                           sep='::', header=None, names=mnames)\n",
    "\n",
    "    return users, ratings, movies"
   ]
  },
  {
   "cell_type": "code",
   "execution_count": null,
   "metadata": {
    "collapsed": false
   },
   "outputs": [],
   "source": [
    "users, ratings, movies = get_movie_data()"
   ]
  },
  {
   "cell_type": "code",
   "execution_count": null,
   "metadata": {
    "collapsed": false
   },
   "outputs": [],
   "source": [
    "print users.head()"
   ]
  },
  {
   "cell_type": "code",
   "execution_count": null,
   "metadata": {
    "collapsed": false
   },
   "outputs": [],
   "source": [
    "print ratings.head()"
   ]
  },
  {
   "cell_type": "code",
   "execution_count": null,
   "metadata": {
    "collapsed": false
   },
   "outputs": [],
   "source": [
    "print movies.head()"
   ]
  },
  {
   "cell_type": "markdown",
   "metadata": {},
   "source": [
    "### Clean up the `movies`\n",
    "\n",
    "- Get the `year`\n",
    "- Shorten the `title`\n"
   ]
  },
  {
   "cell_type": "code",
   "execution_count": null,
   "metadata": {
    "collapsed": false
   },
   "outputs": [],
   "source": [
    "tmp = movies.title.str.match('(.*) \\(([0-9]+)\\)')\n",
    "movies['year'] = tmp.map(lambda x: x[1] if len(x) > 0 else None)\n",
    "movies['short_title'] = tmp.map(lambda x: x[0][:40] if len(x) > 0 else None)"
   ]
  },
  {
   "cell_type": "markdown",
   "metadata": {},
   "source": [
    "### Join the tables with `pd.merge`"
   ]
  },
  {
   "cell_type": "code",
   "execution_count": null,
   "metadata": {
    "collapsed": false
   },
   "outputs": [],
   "source": [
    "data = pd.merge(pd.merge(ratings, users), movies)"
   ]
  },
  {
   "cell_type": "code",
   "execution_count": null,
   "metadata": {
    "collapsed": false
   },
   "outputs": [],
   "source": [
    "for c in data.columns:\n",
    "    print c"
   ]
  },
  {
   "cell_type": "markdown",
   "metadata": {},
   "source": [
    "### What's the highest rated movie?"
   ]
  },
  {
   "cell_type": "code",
   "execution_count": null,
   "metadata": {
    "collapsed": false
   },
   "outputs": [],
   "source": []
  },
  {
   "cell_type": "code",
   "execution_count": null,
   "metadata": {
    "collapsed": false
   },
   "outputs": [],
   "source": []
  },
  {
   "cell_type": "code",
   "execution_count": null,
   "metadata": {
    "collapsed": false
   },
   "outputs": [],
   "source": []
  },
  {
   "cell_type": "markdown",
   "metadata": {
    "collapsed": false
   },
   "source": [
    "[Reference](http://www.amazon.com/Python-Data-Analysis-Wrangling-IPython/dp/1449319793)"
   ]
  }
 ],
 "metadata": {
  "kernelspec": {
   "display_name": "Python 2",
   "language": "python",
   "name": "python2"
  },
  "language_info": {
   "codemirror_mode": {
    "name": "ipython",
    "version": 2
   },
   "file_extension": ".py",
   "mimetype": "text/x-python",
   "name": "python",
   "nbconvert_exporter": "python",
   "pygments_lexer": "ipython2",
   "version": "2.7.10"
  }
 },
 "nbformat": 4,
 "nbformat_minor": 0
}
